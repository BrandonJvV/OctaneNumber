{
 "metadata": {
  "name": ""
 },
 "nbformat": 3,
 "nbformat_minor": 0,
 "worksheets": [
  {
   "cells": [
    {
     "cell_type": "code",
     "collapsed": false,
     "input": [
      "%pylab inline"
     ],
     "language": "python",
     "metadata": {},
     "outputs": [],
     "prompt_number": 1
    },
    {
     "cell_type": "code",
     "collapsed": false,
     "input": [
      "import pandas\n",
      "import jcamp\n",
      "import os.path\n",
      "import glob"
     ],
     "language": "python",
     "metadata": {},
     "outputs": [],
     "prompt_number": "*"
    },
    {
     "cell_type": "code",
     "collapsed": false,
     "input": [
      "datadir = 'C:\\Users\\User\\Dropbox\\janse_van_vuuren_brandon\\data'\n",
      "spectra = []\n",
      "for filename in glob.glob(os.path.join(datadir, 'IR Spectra', '*.jdx')):\n",
      "    d = jcamp.read_jcamp(filename)\n",
      "    spectra.append(d)"
     ],
     "language": "python",
     "metadata": {},
     "outputs": [],
     "prompt_number": "*"
    },
    {
     "cell_type": "markdown",
     "metadata": {},
     "source": [
      "Where do we have data?"
     ]
    },
    {
     "cell_type": "code",
     "collapsed": false,
     "input": [
      "ranges = []\n",
      "for d in spectra:\n",
      "    ranges += [[d['FIRSTX'], +1], [d['LASTX'], -1]]\n",
      "ranges.sort()\n",
      "ranges = array(ranges)\n",
      "plot(ranges[:, 0], cumsum(ranges[:, 1])/len(spectra))\n",
      "xlabel('Wavenumber')\n",
      "ylabel('Fraction of spectra with data here')"
     ],
     "language": "python",
     "metadata": {},
     "outputs": [],
     "prompt_number": "*"
    },
    {
     "cell_type": "markdown",
     "metadata": {},
     "source": [
      "Figure out what the common wavenumber range is between all the spectra"
     ]
    },
    {
     "cell_type": "code",
     "collapsed": false,
     "input": [
      "starting_wn = max(d['FIRSTX'] for d in spectra)\n",
      "ending_wn = min(d['LASTX'] for d in spectra)\n",
      "print \"Wavenumbers between\", starting_wn, \"and\", ending_wn"
     ],
     "language": "python",
     "metadata": {},
     "outputs": [],
     "prompt_number": "*"
    },
    {
     "cell_type": "markdown",
     "metadata": {},
     "source": [
      "Integrating (SIMPSONS RULE) from starting wave number to ending wave number"
     ]
    },
    {
     "cell_type": "code",
     "collapsed": false,
     "input": [
      "Myint = {}\n",
      "for k in spectra:\n",
      "    h = (ending_wn - starting_wn)/800\n",
      "    n = 400\n",
      "    SSim = 0\n",
      "    \n",
      "    for i in range(1,n+1):\n",
      "        SSim = SSim + (h/3*(k['YDATA'][2*i-2] + 4*k['YDATA'][2*i-1] + k['YDATA'][2*i]))\n",
      "    \n",
      "    Myint[k['CAS REGISTRY NO']] = SSim"
     ],
     "language": "python",
     "metadata": {},
     "outputs": []
    },
    {
     "cell_type": "heading",
     "level": 3,
     "metadata": {},
     "source": [
      "Normalise the integral?  Divide each dict entry by itself to get 1?"
     ]
    }
   ],
   "metadata": {}
  }
 ]
}