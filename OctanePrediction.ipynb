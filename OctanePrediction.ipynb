{
 "metadata": {
  "name": "",
  "signature": "sha256:7c8fcb89940d4fe76ad09cca14912b8dba40cfb3054ebc783bfe1a51307f1224"
 },
 "nbformat": 3,
 "nbformat_minor": 0,
 "worksheets": [
  {
   "cells": [
    {
     "cell_type": "code",
     "collapsed": false,
     "input": [
      "%pylab inline\n",
      "\n",
      "\n",
      "import pandas\n",
      "import jcamp\n",
      "import os.path\n",
      "import glob\n",
      "\n",
      "import spec_utils"
     ],
     "language": "python",
     "metadata": {},
     "outputs": [
      {
       "output_type": "stream",
       "stream": "stdout",
       "text": [
        "Populating the interactive namespace from numpy and matplotlib\n"
       ]
      }
     ],
     "prompt_number": 1
    },
    {
     "cell_type": "code",
     "collapsed": false,
     "input": [
      "import json\n",
      "config = json.load(open('config.json'))\n",
      "datadir = os.path.expanduser(config['datadir'])"
     ],
     "language": "python",
     "metadata": {},
     "outputs": [],
     "prompt_number": 82
    },
    {
     "cell_type": "code",
     "collapsed": false,
     "input": [
      "spectra = spec_utils.get_spectra(datadir)\n",
      "\n",
      "ranges, swn, ewn = spec_utils.get_ranges(spectra)\n",
      "\n",
      "df = spec_utils.spectra_DataFrame(spectra, swn, ewn, 4)\n",
      "nf = spec_utils.normalize(df)\n",
      "\n",
      "means = spec_utils.mean_data(nf)\n",
      "xpca, myPca = spec_utils.pca_data(means.transpose(), 6)\n",
      "\n",
      "spec_utils.scree_plot(myPca)"
     ],
     "language": "python",
     "metadata": {},
     "outputs": [
      {
       "metadata": {},
       "output_type": "display_data",
       "png": "[encoded data removed]",
       "text": [
        "<matplotlib.figure.Figure at 0x10c2aa350>"
       ]
      }
     ],
     "prompt_number": 83
    },
    {
     "cell_type": "code",
     "collapsed": false,
     "input": [
      "pca_df = spec_utils.pca_dataFrame(xpca, spectra)"
     ],
     "language": "python",
     "metadata": {},
     "outputs": [],
     "prompt_number": 84
    },
    {
     "cell_type": "code",
     "collapsed": false,
     "input": [
      "ON = pandas.read_csv(os.path.join(datadir, 'flatCAS.csv'), index_col=0)\n",
      "ON.index.name = 'CAS'\n",
      "ON_mean = ON['RON'].mean(1)\n",
      "ON_bar = ON - ON_mean"
     ],
     "language": "python",
     "metadata": {},
     "outputs": [],
     "prompt_number": 85
    },
    {
     "cell_type": "code",
     "collapsed": false,
     "input": [
      "full_df = ON.join(pca_df.T)\n",
      "full_df.head()"
     ],
     "language": "python",
     "metadata": {},
     "outputs": [
      {
       "html": [
        "<div style=\"max-height:1000px;max-width:1500px;overflow:auto;\">\n",
        "<table border=\"1\" class=\"dataframe\">\n",
        "  <thead>\n",
        "    <tr style=\"text-align: right;\">\n",
        "      <th></th>\n",
        "      <th>RON</th>\n",
        "      <th>MON</th>\n",
        "      <th>1</th>\n",
        "      <th>2</th>\n",
        "      <th>3</th>\n",
        "      <th>4</th>\n",
        "      <th>5</th>\n",
        "      <th>6</th>\n",
        "    </tr>\n",
        "  </thead>\n",
        "  <tbody>\n",
        "    <tr>\n",
        "      <th>100-41-4</th>\n",
        "      <td> 124.0</td>\n",
        "      <td> 107.0</td>\n",
        "      <td>-0.014576</td>\n",
        "      <td>-0.001265</td>\n",
        "      <td> 0.005110</td>\n",
        "      <td>-0.003651</td>\n",
        "      <td> 0.001412</td>\n",
        "      <td>-0.003504</td>\n",
        "    </tr>\n",
        "    <tr>\n",
        "      <th>103-65-1</th>\n",
        "      <td> 127.0</td>\n",
        "      <td> 129.0</td>\n",
        "      <td>-0.011250</td>\n",
        "      <td> 0.001653</td>\n",
        "      <td> 0.003567</td>\n",
        "      <td>-0.002192</td>\n",
        "      <td> 0.000896</td>\n",
        "      <td>-0.004372</td>\n",
        "    </tr>\n",
        "    <tr>\n",
        "      <th>106-42-3</th>\n",
        "      <td> 146.0</td>\n",
        "      <td> 127.0</td>\n",
        "      <td>-0.016233</td>\n",
        "      <td> 0.004756</td>\n",
        "      <td>-0.001339</td>\n",
        "      <td>-0.006094</td>\n",
        "      <td> 0.005352</td>\n",
        "      <td> 0.007129</td>\n",
        "    </tr>\n",
        "    <tr>\n",
        "      <th>106-97-8</th>\n",
        "      <td>  93.6</td>\n",
        "      <td>  90.1</td>\n",
        "      <td> 0.006879</td>\n",
        "      <td>-0.001187</td>\n",
        "      <td>-0.000234</td>\n",
        "      <td>-0.003812</td>\n",
        "      <td>-0.000910</td>\n",
        "      <td> 0.000613</td>\n",
        "    </tr>\n",
        "    <tr>\n",
        "      <th>1067-08-9</th>\n",
        "      <td>  80.8</td>\n",
        "      <td>  88.7</td>\n",
        "      <td>-0.005366</td>\n",
        "      <td>-0.001130</td>\n",
        "      <td>-0.001444</td>\n",
        "      <td> 0.001030</td>\n",
        "      <td>-0.000063</td>\n",
        "      <td>-0.000289</td>\n",
        "    </tr>\n",
        "  </tbody>\n",
        "</table>\n",
        "<p>5 rows \u00d7 8 columns</p>\n",
        "</div>"
       ],
       "metadata": {},
       "output_type": "pyout",
       "prompt_number": 86,
       "text": [
        "             RON    MON         1         2         3         4         5  \\\n",
        "100-41-4   124.0  107.0 -0.014576 -0.001265  0.005110 -0.003651  0.001412   \n",
        "103-65-1   127.0  129.0 -0.011250  0.001653  0.003567 -0.002192  0.000896   \n",
        "106-42-3   146.0  127.0 -0.016233  0.004756 -0.001339 -0.006094  0.005352   \n",
        "106-97-8    93.6   90.1  0.006879 -0.001187 -0.000234 -0.003812 -0.000910   \n",
        "1067-08-9   80.8   88.7 -0.005366 -0.001130 -0.001444  0.001030 -0.000063   \n",
        "\n",
        "                  6  \n",
        "100-41-4  -0.003504  \n",
        "103-65-1  -0.004372  \n",
        "106-42-3   0.007129  \n",
        "106-97-8   0.000613  \n",
        "1067-08-9 -0.000289  \n",
        "\n",
        "[5 rows x 8 columns]"
       ]
      }
     ],
     "prompt_number": 86
    },
    {
     "cell_type": "code",
     "collapsed": false,
     "input": [
      "scatter(full_df[1], full_df['RON'])\n",
      "xlabel('C1')\n",
      "ylabel('RON')\n",
      "title('C1 vs RON')"
     ],
     "language": "python",
     "metadata": {},
     "outputs": [
      {
       "metadata": {},
       "output_type": "pyout",
       "prompt_number": 87,
       "text": [
        "<matplotlib.text.Text at 0x10f9b6450>"
       ]
      },
      {
       "metadata": {},
       "output_type": "display_data",
       "png": "[encoded data removed]",
       "text": [
        "<matplotlib.figure.Figure at 0x10f98f0d0>"
       ]
      }
     ],
     "prompt_number": 87
    },
    {
     "cell_type": "code",
     "collapsed": false,
     "input": [
      "#change the color map here...which color scale will be most desirable\n",
      "colmap = plt.cm.winter \n",
      "\n",
      "scatter(full_df[1], full_df[2], c=full_df['RON'], cmap=colmap)\n",
      "colorbar(label='Octane number')\n",
      "\n",
      "xlabel('C1')\n",
      "ylabel('C2')\n",
      "grid()\n",
      "tight_layout()"
     ],
     "language": "python",
     "metadata": {},
     "outputs": [
      {
       "metadata": {},
       "output_type": "display_data",
       "png": "[encoded data removed]",
       "text": [
        "<matplotlib.figure.Figure at 0x1101d2b50>"
       ]
      }
     ],
     "prompt_number": 89
    },
    {
     "cell_type": "code",
     "collapsed": false,
     "input": [
      "prop = pandas.read_csv(os.path.join(datadir, 'properties.csv'), index_col=0)"
     ],
     "language": "python",
     "metadata": {},
     "outputs": [],
     "prompt_number": 90
    },
    {
     "cell_type": "code",
     "collapsed": false,
     "input": [
      "machine = full_df.ix[:,1:]\n",
      "machine.index.name = 'CAS'\n",
      "machine.columns = ['C%i' % i for i in machine.columns]\n",
      "machine.head()"
     ],
     "language": "python",
     "metadata": {},
     "outputs": [
      {
       "html": [
        "<div style=\"max-height:1000px;max-width:1500px;overflow:auto;\">\n",
        "<table border=\"1\" class=\"dataframe\">\n",
        "  <thead>\n",
        "    <tr style=\"text-align: right;\">\n",
        "      <th></th>\n",
        "      <th>C1</th>\n",
        "      <th>C2</th>\n",
        "      <th>C3</th>\n",
        "      <th>C4</th>\n",
        "      <th>C5</th>\n",
        "      <th>C6</th>\n",
        "    </tr>\n",
        "    <tr>\n",
        "      <th>CAS</th>\n",
        "      <th></th>\n",
        "      <th></th>\n",
        "      <th></th>\n",
        "      <th></th>\n",
        "      <th></th>\n",
        "      <th></th>\n",
        "    </tr>\n",
        "  </thead>\n",
        "  <tbody>\n",
        "    <tr>\n",
        "      <th>100-41-4</th>\n",
        "      <td>-0.014576</td>\n",
        "      <td>-0.001265</td>\n",
        "      <td> 0.005110</td>\n",
        "      <td>-0.003651</td>\n",
        "      <td> 0.001412</td>\n",
        "      <td>-0.003504</td>\n",
        "    </tr>\n",
        "    <tr>\n",
        "      <th>103-65-1</th>\n",
        "      <td>-0.011250</td>\n",
        "      <td> 0.001653</td>\n",
        "      <td> 0.003567</td>\n",
        "      <td>-0.002192</td>\n",
        "      <td> 0.000896</td>\n",
        "      <td>-0.004372</td>\n",
        "    </tr>\n",
        "    <tr>\n",
        "      <th>106-42-3</th>\n",
        "      <td>-0.016233</td>\n",
        "      <td> 0.004756</td>\n",
        "      <td>-0.001339</td>\n",
        "      <td>-0.006094</td>\n",
        "      <td> 0.005352</td>\n",
        "      <td> 0.007129</td>\n",
        "    </tr>\n",
        "    <tr>\n",
        "      <th>106-97-8</th>\n",
        "      <td> 0.006879</td>\n",
        "      <td>-0.001187</td>\n",
        "      <td>-0.000234</td>\n",
        "      <td>-0.003812</td>\n",
        "      <td>-0.000910</td>\n",
        "      <td> 0.000613</td>\n",
        "    </tr>\n",
        "    <tr>\n",
        "      <th>1067-08-9</th>\n",
        "      <td>-0.005366</td>\n",
        "      <td>-0.001130</td>\n",
        "      <td>-0.001444</td>\n",
        "      <td> 0.001030</td>\n",
        "      <td>-0.000063</td>\n",
        "      <td>-0.000289</td>\n",
        "    </tr>\n",
        "  </tbody>\n",
        "</table>\n",
        "<p>5 rows \u00d7 6 columns</p>\n",
        "</div>"
       ],
       "metadata": {},
       "output_type": "pyout",
       "prompt_number": 91,
       "text": [
        "                 C1        C2        C3        C4        C5        C6\n",
        "CAS                                                                  \n",
        "100-41-4  -0.014576 -0.001265  0.005110 -0.003651  0.001412 -0.003504\n",
        "103-65-1  -0.011250  0.001653  0.003567 -0.002192  0.000896 -0.004372\n",
        "106-42-3  -0.016233  0.004756 -0.001339 -0.006094  0.005352  0.007129\n",
        "106-97-8   0.006879 -0.001187 -0.000234 -0.003812 -0.000910  0.000613\n",
        "1067-08-9 -0.005366 -0.001130 -0.001444  0.001030 -0.000063 -0.000289\n",
        "\n",
        "[5 rows x 6 columns]"
       ]
      }
     ],
     "prompt_number": 91
    },
    {
     "cell_type": "code",
     "collapsed": false,
     "input": [
      "machine.to_csv(os.path.join(datadir, 'machine_table.csv'))"
     ],
     "language": "python",
     "metadata": {},
     "outputs": [],
     "prompt_number": 92
    },
    {
     "cell_type": "code",
     "collapsed": false,
     "input": [
      "machine.head()"
     ],
     "language": "python",
     "metadata": {},
     "outputs": [
      {
       "html": [
        "<div style=\"max-height:1000px;max-width:1500px;overflow:auto;\">\n",
        "<table border=\"1\" class=\"dataframe\">\n",
        "  <thead>\n",
        "    <tr style=\"text-align: right;\">\n",
        "      <th></th>\n",
        "      <th>C1</th>\n",
        "      <th>C2</th>\n",
        "      <th>C3</th>\n",
        "      <th>C4</th>\n",
        "      <th>C5</th>\n",
        "      <th>C6</th>\n",
        "    </tr>\n",
        "    <tr>\n",
        "      <th>CAS</th>\n",
        "      <th></th>\n",
        "      <th></th>\n",
        "      <th></th>\n",
        "      <th></th>\n",
        "      <th></th>\n",
        "      <th></th>\n",
        "    </tr>\n",
        "  </thead>\n",
        "  <tbody>\n",
        "    <tr>\n",
        "      <th>100-41-4</th>\n",
        "      <td>-0.014576</td>\n",
        "      <td>-0.001265</td>\n",
        "      <td> 0.005110</td>\n",
        "      <td>-0.003651</td>\n",
        "      <td> 0.001412</td>\n",
        "      <td>-0.003504</td>\n",
        "    </tr>\n",
        "    <tr>\n",
        "      <th>103-65-1</th>\n",
        "      <td>-0.011250</td>\n",
        "      <td> 0.001653</td>\n",
        "      <td> 0.003567</td>\n",
        "      <td>-0.002192</td>\n",
        "      <td> 0.000896</td>\n",
        "      <td>-0.004372</td>\n",
        "    </tr>\n",
        "    <tr>\n",
        "      <th>106-42-3</th>\n",
        "      <td>-0.016233</td>\n",
        "      <td> 0.004756</td>\n",
        "      <td>-0.001339</td>\n",
        "      <td>-0.006094</td>\n",
        "      <td> 0.005352</td>\n",
        "      <td> 0.007129</td>\n",
        "    </tr>\n",
        "    <tr>\n",
        "      <th>106-97-8</th>\n",
        "      <td> 0.006879</td>\n",
        "      <td>-0.001187</td>\n",
        "      <td>-0.000234</td>\n",
        "      <td>-0.003812</td>\n",
        "      <td>-0.000910</td>\n",
        "      <td> 0.000613</td>\n",
        "    </tr>\n",
        "    <tr>\n",
        "      <th>1067-08-9</th>\n",
        "      <td>-0.005366</td>\n",
        "      <td>-0.001130</td>\n",
        "      <td>-0.001444</td>\n",
        "      <td> 0.001030</td>\n",
        "      <td>-0.000063</td>\n",
        "      <td>-0.000289</td>\n",
        "    </tr>\n",
        "  </tbody>\n",
        "</table>\n",
        "<p>5 rows \u00d7 6 columns</p>\n",
        "</div>"
       ],
       "metadata": {},
       "output_type": "pyout",
       "prompt_number": 93,
       "text": [
        "                 C1        C2        C3        C4        C5        C6\n",
        "CAS                                                                  \n",
        "100-41-4  -0.014576 -0.001265  0.005110 -0.003651  0.001412 -0.003504\n",
        "103-65-1  -0.011250  0.001653  0.003567 -0.002192  0.000896 -0.004372\n",
        "106-42-3  -0.016233  0.004756 -0.001339 -0.006094  0.005352  0.007129\n",
        "106-97-8   0.006879 -0.001187 -0.000234 -0.003812 -0.000910  0.000613\n",
        "1067-08-9 -0.005366 -0.001130 -0.001444  0.001030 -0.000063 -0.000289\n",
        "\n",
        "[5 rows x 6 columns]"
       ]
      }
     ],
     "prompt_number": 93
    },
    {
     "cell_type": "heading",
     "level": 4,
     "metadata": {},
     "source": [
      "Using normal RON number prediction, not the removed mean RON_bar:"
     ]
    },
    {
     "cell_type": "code",
     "collapsed": false,
     "input": [
      "from sklearn import linear_model\n",
      "clf = linear_model.LinearRegression()\n",
      "clf.fit(machine, full_df['RON'])"
     ],
     "language": "python",
     "metadata": {},
     "outputs": [
      {
       "metadata": {},
       "output_type": "pyout",
       "prompt_number": 94,
       "text": [
        "LinearRegression(copy_X=True, fit_intercept=True, normalize=False)"
       ]
      }
     ],
     "prompt_number": 94
    },
    {
     "cell_type": "code",
     "collapsed": false,
     "input": [
      "scatter(full_df['RON'], clf.predict(machine))\n",
      "plot(full_df['RON'], full_df['RON'], color='black')\n",
      "xlim([-50,200])\n",
      "ylim([-50,200])\n",
      "title('Parity Plot')\n",
      "ylabel('Predicted RON')\n",
      "xlabel('Real RON')"
     ],
     "language": "python",
     "metadata": {},
     "outputs": [
      {
       "metadata": {},
       "output_type": "pyout",
       "prompt_number": 95,
       "text": [
        "<matplotlib.text.Text at 0x10f9a3890>"
       ]
      },
      {
       "metadata": {},
       "output_type": "display_data",
       "png": "[encoded data removed]",
       "text": [
        "<matplotlib.figure.Figure at 0x10e5af450>"
       ]
      }
     ],
     "prompt_number": 95
    },
    {
     "cell_type": "code",
     "collapsed": false,
     "input": [],
     "language": "python",
     "metadata": {},
     "outputs": [],
     "prompt_number": 14
    }
   ],
   "metadata": {}
  }
 ]
}