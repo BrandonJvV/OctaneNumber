{
 "metadata": {
  "name": "",
  "signature": "sha256:50d93fc9606c1d6edf062790d63fb4d7e7cbb917a9f8663496f8d8ae107e625b"
 },
 "nbformat": 3,
 "nbformat_minor": 0,
 "worksheets": [
  {
   "cells": [
    {
     "cell_type": "code",
     "collapsed": false,
     "input": [
      "%pylab inline\n",
      "\n",
      "\n",
      "import pandas\n",
      "import jcamp\n",
      "import os.path\n",
      "import glob\n",
      "\n",
      "import spec_utils"
     ],
     "language": "python",
     "metadata": {},
     "outputs": [
      {
       "output_type": "stream",
       "stream": "stdout",
       "text": [
        "Populating the interactive namespace from numpy and matplotlib\n"
       ]
      }
     ],
     "prompt_number": 1
    },
    {
     "cell_type": "code",
     "collapsed": false,
     "input": [
      "import json\n",
      "config = json.load(open('config.json'))\n",
      "datadir = os.path.expanduser(config['datadir'])"
     ],
     "language": "python",
     "metadata": {},
     "outputs": [],
     "prompt_number": 2
    },
    {
     "cell_type": "code",
     "collapsed": false,
     "input": [
      "spectra = spec_utils.get_spectra(datadir)\n",
      "\n",
      "ranges, swn, ewn = spec_utils.get_ranges(spectra)\n",
      "\n",
      "df = spec_utils.spectra_DataFrame(spectra, swn, ewn, 4)\n",
      "nf = spec_utils.normalize(df)\n",
      "\n",
      "means = spec_utils.mean_data(nf)\n",
      "xpca, myPca = spec_utils.pca_data(means.transpose(), 6)\n",
      "\n",
      "spec_utils.scree_plot(myPca)"
     ],
     "language": "python",
     "metadata": {},
     "outputs": [
      {
       "ename": "NameError",
       "evalue": "global name 'glob' is not defined",
       "output_type": "pyerr",
       "traceback": [
        "\u001b[1;31m---------------------------------------------------------------------------\u001b[0m\n\u001b[1;31mNameError\u001b[0m                                 Traceback (most recent call last)",
        "\u001b[1;32m<ipython-input-3-58255d5c97e1>\u001b[0m in \u001b[0;36m<module>\u001b[1;34m()\u001b[0m\n\u001b[1;32m----> 1\u001b[1;33m \u001b[0mspectra\u001b[0m \u001b[1;33m=\u001b[0m \u001b[0mspec_utils\u001b[0m\u001b[1;33m.\u001b[0m\u001b[0mget_spectra\u001b[0m\u001b[1;33m(\u001b[0m\u001b[0mdatadir\u001b[0m\u001b[1;33m)\u001b[0m\u001b[1;33m\u001b[0m\u001b[0m\n\u001b[0m\u001b[0;32m      2\u001b[0m \u001b[1;33m\u001b[0m\u001b[0m\n\u001b[0;32m      3\u001b[0m \u001b[0mranges\u001b[0m\u001b[1;33m,\u001b[0m \u001b[0mswn\u001b[0m\u001b[1;33m,\u001b[0m \u001b[0mewn\u001b[0m \u001b[1;33m=\u001b[0m \u001b[0mspec_utils\u001b[0m\u001b[1;33m.\u001b[0m\u001b[0mget_ranges\u001b[0m\u001b[1;33m(\u001b[0m\u001b[0mspectra\u001b[0m\u001b[1;33m)\u001b[0m\u001b[1;33m\u001b[0m\u001b[0m\n\u001b[0;32m      4\u001b[0m \u001b[1;33m\u001b[0m\u001b[0m\n\u001b[0;32m      5\u001b[0m \u001b[0mdf\u001b[0m \u001b[1;33m=\u001b[0m \u001b[0mspec_utils\u001b[0m\u001b[1;33m.\u001b[0m\u001b[0mspectra_DataFrame\u001b[0m\u001b[1;33m(\u001b[0m\u001b[0mspectra\u001b[0m\u001b[1;33m,\u001b[0m \u001b[0mswn\u001b[0m\u001b[1;33m,\u001b[0m \u001b[0mewn\u001b[0m\u001b[1;33m,\u001b[0m \u001b[1;36m4\u001b[0m\u001b[1;33m)\u001b[0m\u001b[1;33m\u001b[0m\u001b[0m\n",
        "\u001b[1;32mC:\\Users\\Brandon\\Documents\\University\\4th Year\\CSC 411\\OctaneNumber_IPYNB\\spec_utils.pyc\u001b[0m in \u001b[0;36mget_spectra\u001b[1;34m(datadir)\u001b[0m\n\u001b[0;32m      8\u001b[0m     \u001b[1;34m'''Creates spectrum array from directory 'datadir'.'''\u001b[0m\u001b[1;33m\u001b[0m\u001b[0m\n\u001b[0;32m      9\u001b[0m     \u001b[0mspectra\u001b[0m \u001b[1;33m=\u001b[0m \u001b[1;33m[\u001b[0m\u001b[1;33m]\u001b[0m\u001b[1;33m\u001b[0m\u001b[0m\n\u001b[1;32m---> 10\u001b[1;33m     \u001b[1;32mfor\u001b[0m \u001b[0mfilename\u001b[0m \u001b[1;32min\u001b[0m \u001b[1;33m[\u001b[0m\u001b[0mglob\u001b[0m\u001b[1;33m.\u001b[0m\u001b[0mglob\u001b[0m\u001b[1;33m(\u001b[0m\u001b[0mos\u001b[0m\u001b[1;33m.\u001b[0m\u001b[0mpath\u001b[0m\u001b[1;33m.\u001b[0m\u001b[0mjoin\u001b[0m\u001b[1;33m(\u001b[0m\u001b[0mdatadir\u001b[0m\u001b[1;33m,\u001b[0m \u001b[1;34m'IR Spectra'\u001b[0m\u001b[1;33m,\u001b[0m \u001b[1;34m'*.jdx'\u001b[0m\u001b[1;33m)\u001b[0m\u001b[1;33m)\u001b[0m\u001b[1;33m]\u001b[0m\u001b[1;33m:\u001b[0m\u001b[1;33m\u001b[0m\u001b[0m\n\u001b[0m\u001b[0;32m     11\u001b[0m         \u001b[0md\u001b[0m \u001b[1;33m=\u001b[0m \u001b[0mjcamp\u001b[0m\u001b[1;33m.\u001b[0m\u001b[0mread_jcamp\u001b[0m\u001b[1;33m(\u001b[0m\u001b[0mfilename\u001b[0m\u001b[1;33m)\u001b[0m\u001b[1;33m\u001b[0m\u001b[0m\n\u001b[0;32m     12\u001b[0m         \u001b[0mspectra\u001b[0m\u001b[1;33m.\u001b[0m\u001b[0mappend\u001b[0m\u001b[1;33m(\u001b[0m\u001b[0md\u001b[0m\u001b[1;33m)\u001b[0m\u001b[1;33m\u001b[0m\u001b[0m\n",
        "\u001b[1;31mNameError\u001b[0m: global name 'glob' is not defined"
       ]
      }
     ],
     "prompt_number": 3
    },
    {
     "cell_type": "code",
     "collapsed": false,
     "input": [
      "myPca_df = spec_utils.pca_dataFrame(xpca, spectra)"
     ],
     "language": "python",
     "metadata": {},
     "outputs": [
      {
       "ename": "NameError",
       "evalue": "name 'xpca' is not defined",
       "output_type": "pyerr",
       "traceback": [
        "\u001b[1;31m---------------------------------------------------------------------------\u001b[0m\n\u001b[1;31mNameError\u001b[0m                                 Traceback (most recent call last)",
        "\u001b[1;32m<ipython-input-4-7be3f4392fd1>\u001b[0m in \u001b[0;36m<module>\u001b[1;34m()\u001b[0m\n\u001b[1;32m----> 1\u001b[1;33m \u001b[0mmyPca_df\u001b[0m \u001b[1;33m=\u001b[0m \u001b[0mspec_utils\u001b[0m\u001b[1;33m.\u001b[0m\u001b[0mpca_dataFrame\u001b[0m\u001b[1;33m(\u001b[0m\u001b[0mxpca\u001b[0m\u001b[1;33m,\u001b[0m \u001b[0mspectra\u001b[0m\u001b[1;33m)\u001b[0m\u001b[1;33m\u001b[0m\u001b[0m\n\u001b[0m",
        "\u001b[1;31mNameError\u001b[0m: name 'xpca' is not defined"
       ]
      }
     ],
     "prompt_number": 4
    },
    {
     "cell_type": "code",
     "collapsed": false,
     "input": [
      "ON_df = pandas.DataFrame()\n",
      "ON = ON_df.from_csv(os.path.join(datadir, 'flatCAS.csv'))\n",
      "\n",
      "ON_mean = ON['RON'].mean(1)\n",
      "ON_bar = ON - ON_mean"
     ],
     "language": "python",
     "metadata": {},
     "outputs": [],
     "prompt_number": 5
    },
    {
     "cell_type": "code",
     "collapsed": false,
     "input": [
      "x = [];\n",
      "for CAS in ON_bar.transpose():\n",
      "    #So as to get the same CAS order as the ON data frame \n",
      "    x.append(myPca_df[CAS][0])\n",
      "    \n",
      "scatter(x, ON_bar['RON'])\n",
      "xlabel('C1')\n",
      "ylabel('RON_bar')\n",
      "title('C1 vs RON')"
     ],
     "language": "python",
     "metadata": {},
     "outputs": [
      {
       "ename": "NameError",
       "evalue": "name 'myPca_df' is not defined",
       "output_type": "pyerr",
       "traceback": [
        "\u001b[1;31m---------------------------------------------------------------------------\u001b[0m\n\u001b[1;31mNameError\u001b[0m                                 Traceback (most recent call last)",
        "\u001b[1;32m<ipython-input-6-123970591086>\u001b[0m in \u001b[0;36m<module>\u001b[1;34m()\u001b[0m\n\u001b[0;32m      2\u001b[0m \u001b[1;32mfor\u001b[0m \u001b[0mCAS\u001b[0m \u001b[1;32min\u001b[0m \u001b[0mON_bar\u001b[0m\u001b[1;33m.\u001b[0m\u001b[0mtranspose\u001b[0m\u001b[1;33m(\u001b[0m\u001b[1;33m)\u001b[0m\u001b[1;33m:\u001b[0m\u001b[1;33m\u001b[0m\u001b[0m\n\u001b[0;32m      3\u001b[0m     \u001b[1;31m#So as to get the same CAS order as the ON data frame\u001b[0m\u001b[1;33m\u001b[0m\u001b[1;33m\u001b[0m\u001b[0m\n\u001b[1;32m----> 4\u001b[1;33m     \u001b[0mx\u001b[0m\u001b[1;33m.\u001b[0m\u001b[0mappend\u001b[0m\u001b[1;33m(\u001b[0m\u001b[0mmyPca_df\u001b[0m\u001b[1;33m[\u001b[0m\u001b[0mCAS\u001b[0m\u001b[1;33m]\u001b[0m\u001b[1;33m[\u001b[0m\u001b[1;36m0\u001b[0m\u001b[1;33m]\u001b[0m\u001b[1;33m)\u001b[0m\u001b[1;33m\u001b[0m\u001b[0m\n\u001b[0m\u001b[0;32m      5\u001b[0m \u001b[1;33m\u001b[0m\u001b[0m\n\u001b[0;32m      6\u001b[0m \u001b[0mscatter\u001b[0m\u001b[1;33m(\u001b[0m\u001b[0mx\u001b[0m\u001b[1;33m,\u001b[0m \u001b[0mON_bar\u001b[0m\u001b[1;33m[\u001b[0m\u001b[1;34m'RON'\u001b[0m\u001b[1;33m]\u001b[0m\u001b[1;33m)\u001b[0m\u001b[1;33m\u001b[0m\u001b[0m\n",
        "\u001b[1;31mNameError\u001b[0m: name 'myPca_df' is not defined"
       ]
      }
     ],
     "prompt_number": 6
    },
    {
     "cell_type": "code",
     "collapsed": false,
     "input": [
      "c1 = [];\n",
      "c2 = [];\n",
      "tags = [ON_bar['RON'][i] for i in arange(len(ON_bar))];\n",
      "\n",
      "for CAS in ON_bar.transpose():\n",
      "    #So as to get the same CAS order as the ON data frame \n",
      "    c1.append(pca_df[CAS][1])\n",
      "    c2.append(pca_df[CAS][2]) "
     ],
     "language": "python",
     "metadata": {},
     "outputs": []
    },
    {
     "cell_type": "code",
     "collapsed": false,
     "input": [
      "#change the color map here...which color scale will be most desirable\n",
      "colmap = plt.cm.winter \n",
      "    \n",
      "fig, ax = plt.subplots(1,1, figsize=(8,8))\n",
      "scatter(c1, c2, c=tags, cmap=colmap)\n",
      "\n",
      "ax2 = fig.add_axes([1.0, 0.1, 0.06, 0.8])\n",
      "cb = mpl.colorbar.ColorbarBase(ax2, cmap=colmap)\n",
      "\n",
      "ax.set_xlabel('C2')\n",
      "ax.set_ylabel('C3')\n",
      "ax.set_title('C2 vs C3, colorMap')\n",
      "\n",
      "ax2.set_ylabel('Low RON to high RON %')"
     ],
     "language": "python",
     "metadata": {},
     "outputs": []
    },
    {
     "cell_type": "code",
     "collapsed": false,
     "input": [
      "prop_df = pandas.DataFrame()\n",
      "prop = prop_df.from_csv(os.path.join(datadir, 'properties.csv'))"
     ],
     "language": "python",
     "metadata": {},
     "outputs": [],
     "prompt_number": 2
    },
    {
     "cell_type": "code",
     "collapsed": false,
     "input": [
      "machine = pandas.DataFrame()\n",
      "\n",
      "#machine['RON'] = ON_bar['RON']\n",
      "#machine['Density kg/m3'] = prop['Density g/cm3']*1000\n",
      "#machine['K Viscosity'] = prop['Kinematic viscosity m2/s']\n",
      "\n",
      "col =[]\n",
      "for i in arange(0,len(myPca_df)):\n",
      "    c = 'C'+str(i+1)\n",
      "    \n",
      "    for CAS in ON_bar.transpose():\n",
      "        col.append(myPca_df[CAS][i]) \n",
      "        \n",
      "    machine[c] = col\n",
      "    col = []\n",
      "    \n",
      "machine.index = [CAS for CAS in ON_bar.transpose()]\n",
      "machine.index.name = 'CAS'"
     ],
     "language": "python",
     "metadata": {},
     "outputs": [],
     "prompt_number": 18
    },
    {
     "cell_type": "code",
     "collapsed": false,
     "input": [
      "machine.to_csv(os.path.join(datadir, 'machine_table.csv'))"
     ],
     "language": "python",
     "metadata": {},
     "outputs": [],
     "prompt_number": 23
    },
    {
     "cell_type": "code",
     "collapsed": false,
     "input": [
      "machine.head()"
     ],
     "language": "python",
     "metadata": {},
     "outputs": [
      {
       "html": [
        "<div style=\"max-height:1000px;max-width:1500px;overflow:auto;\">\n",
        "<table border=\"1\" class=\"dataframe\">\n",
        "  <thead>\n",
        "    <tr style=\"text-align: right;\">\n",
        "      <th></th>\n",
        "      <th>C1</th>\n",
        "      <th>C2</th>\n",
        "      <th>C3</th>\n",
        "      <th>C4</th>\n",
        "      <th>C5</th>\n",
        "      <th>C6</th>\n",
        "      <th>C7</th>\n",
        "      <th>C8</th>\n",
        "    </tr>\n",
        "    <tr>\n",
        "      <th>CAS</th>\n",
        "      <th></th>\n",
        "      <th></th>\n",
        "      <th></th>\n",
        "      <th></th>\n",
        "      <th></th>\n",
        "      <th></th>\n",
        "      <th></th>\n",
        "      <th></th>\n",
        "    </tr>\n",
        "  </thead>\n",
        "  <tbody>\n",
        "    <tr>\n",
        "      <th>74-98-6</th>\n",
        "      <td> 0.009272</td>\n",
        "      <td>-0.005825</td>\n",
        "      <td> 0.002489</td>\n",
        "      <td>-0.001351</td>\n",
        "      <td> 0.000184</td>\n",
        "      <td> 0.000111</td>\n",
        "      <td> 0.002076</td>\n",
        "      <td> 0.003291</td>\n",
        "    </tr>\n",
        "    <tr>\n",
        "      <th>106-97-8</th>\n",
        "      <td> 0.006879</td>\n",
        "      <td>-0.001187</td>\n",
        "      <td>-0.000234</td>\n",
        "      <td>-0.003812</td>\n",
        "      <td>-0.000910</td>\n",
        "      <td> 0.000613</td>\n",
        "      <td> 0.000876</td>\n",
        "      <td> 0.001981</td>\n",
        "    </tr>\n",
        "    <tr>\n",
        "      <th>75-28-5</th>\n",
        "      <td> 0.006678</td>\n",
        "      <td>-0.001363</td>\n",
        "      <td> 0.002554</td>\n",
        "      <td> 0.001869</td>\n",
        "      <td> 0.001765</td>\n",
        "      <td> 0.000623</td>\n",
        "      <td> 0.002060</td>\n",
        "      <td> 0.000870</td>\n",
        "    </tr>\n",
        "    <tr>\n",
        "      <th>109-66-0</th>\n",
        "      <td> 0.006337</td>\n",
        "      <td> 0.001719</td>\n",
        "      <td>-0.000218</td>\n",
        "      <td>-0.002126</td>\n",
        "      <td>-0.001046</td>\n",
        "      <td>-0.000109</td>\n",
        "      <td> 0.000542</td>\n",
        "      <td> 0.001233</td>\n",
        "    </tr>\n",
        "    <tr>\n",
        "      <th>78-78-4</th>\n",
        "      <td> 0.005439</td>\n",
        "      <td>-0.004649</td>\n",
        "      <td> 0.001097</td>\n",
        "      <td>-0.001120</td>\n",
        "      <td> 0.000224</td>\n",
        "      <td> 0.000452</td>\n",
        "      <td>-0.000414</td>\n",
        "      <td> 0.000045</td>\n",
        "    </tr>\n",
        "  </tbody>\n",
        "</table>\n",
        "<p>5 rows \u00d7 8 columns</p>\n",
        "</div>"
       ],
       "metadata": {},
       "output_type": "pyout",
       "prompt_number": 22,
       "text": [
        "                C1        C2        C3        C4        C5        C6  \\\n",
        "CAS                                                                    \n",
        "74-98-6   0.009272 -0.005825  0.002489 -0.001351  0.000184  0.000111   \n",
        "106-97-8  0.006879 -0.001187 -0.000234 -0.003812 -0.000910  0.000613   \n",
        "75-28-5   0.006678 -0.001363  0.002554  0.001869  0.001765  0.000623   \n",
        "109-66-0  0.006337  0.001719 -0.000218 -0.002126 -0.001046 -0.000109   \n",
        "78-78-4   0.005439 -0.004649  0.001097 -0.001120  0.000224  0.000452   \n",
        "\n",
        "                C7        C8  \n",
        "CAS                           \n",
        "74-98-6   0.002076  0.003291  \n",
        "106-97-8  0.000876  0.001981  \n",
        "75-28-5   0.002060  0.000870  \n",
        "109-66-0  0.000542  0.001233  \n",
        "78-78-4  -0.000414  0.000045  \n",
        "\n",
        "[5 rows x 8 columns]"
       ]
      }
     ],
     "prompt_number": 22
    },
    {
     "cell_type": "heading",
     "level": 4,
     "metadata": {},
     "source": [
      "Using normal RON number prediction, not the removed mean RON_bar:"
     ]
    },
    {
     "cell_type": "code",
     "collapsed": false,
     "input": [
      "from sklearn import linear_model\n",
      "clf = linear_model.LinearRegression()\n",
      "clf.fit(machine, ON['RON'])"
     ],
     "language": "python",
     "metadata": {},
     "outputs": [
      {
       "metadata": {},
       "output_type": "pyout",
       "prompt_number": 53,
       "text": [
        "LinearRegression(copy_X=True, fit_intercept=True, normalize=False)"
       ]
      }
     ],
     "prompt_number": 53
    },
    {
     "cell_type": "code",
     "collapsed": false,
     "input": [
      "scatter(ON['RON'], clf.predict(machine))\n",
      "plot(ON['RON'], ON['RON'], color='black')\n",
      "xlim([-50,200])\n",
      "ylim([-50,200])\n",
      "title('Parity Plot')\n",
      "ylabel('Predicted RON')\n",
      "xlabel('Real RON')"
     ],
     "language": "python",
     "metadata": {},
     "outputs": [
      {
       "metadata": {},
       "output_type": "pyout",
       "prompt_number": 62,
       "text": [
        "<matplotlib.text.Text at 0xf06f630>"
       ]
      },
      {
       "metadata": {},
       "output_type": "display_data",
       "png": "[encoded data removed]",
       "text": [
        "<matplotlib.figure.Figure at 0xf09b790>"
       ]
      }
     ],
     "prompt_number": 62
    },
    {
     "cell_type": "code",
     "collapsed": false,
     "input": [],
     "language": "python",
     "metadata": {},
     "outputs": [],
     "prompt_number": 48
    },
    {
     "cell_type": "code",
     "collapsed": false,
     "input": [],
     "language": "python",
     "metadata": {},
     "outputs": []
    }
   ],
   "metadata": {}
  }
 ]
}