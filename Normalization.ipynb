{
 "metadata": {
  "name": ""
 },
 "nbformat": 3,
 "nbformat_minor": 0,
 "worksheets": [
  {
   "cells": [
    {
     "cell_type": "code",
     "collapsed": false,
     "input": [
      "%pylab inline"
     ],
     "language": "python",
     "metadata": {},
     "outputs": [
      {
       "output_type": "stream",
       "stream": "stdout",
       "text": [
        "Populating the interactive namespace from numpy and matplotlib\n"
       ]
      }
     ],
     "prompt_number": 2
    },
    {
     "cell_type": "code",
     "collapsed": false,
     "input": [
      "import pandas\n",
      "import jcamp\n",
      "import os.path\n",
      "import glob"
     ],
     "language": "python",
     "metadata": {},
     "outputs": [],
     "prompt_number": 3
    },
    {
     "cell_type": "markdown",
     "metadata": {},
     "source": [
      "Read data directory. expanduser is used to expand the ~ symbol in the data."
     ]
    },
    {
     "cell_type": "code",
     "collapsed": false,
     "input": [
      "import json\n",
      "config = json.load(open('config.json'))\n",
      "datadir = os.path.expanduser(config['datadir'])"
     ],
     "language": "python",
     "metadata": {},
     "outputs": [],
     "prompt_number": 4
    },
    {
     "cell_type": "code",
     "collapsed": false,
     "input": [
      "spectra = []\n",
      "for filename in glob.glob(os.path.join(datadir, 'IR Spectra', '*.jdx')):\n",
      "    d = jcamp.read_jcamp(filename)\n",
      "    spectra.append(d)"
     ],
     "language": "python",
     "metadata": {},
     "outputs": [],
     "prompt_number": 5
    },
    {
     "cell_type": "markdown",
     "metadata": {},
     "source": [
      "Where do we have data?"
     ]
    },
    {
     "cell_type": "code",
     "collapsed": false,
     "input": [
      "ranges = []\n",
      "for d in spectra:\n",
      "    ranges += [[d['FIRSTX'], +1], [d['LASTX'], -1]]\n",
      "ranges.sort()\n",
      "ranges = array(ranges)\n",
      "plot(ranges[:, 0], cumsum(ranges[:, 1])/len(spectra))\n",
      "xlabel('Wavenumber')\n",
      "ylabel('Fraction of spectra with data here')"
     ],
     "language": "python",
     "metadata": {},
     "outputs": [
      {
       "metadata": {},
       "output_type": "pyout",
       "prompt_number": 6,
       "text": [
        "<matplotlib.text.Text at 0x7a6bc50>"
       ]
      },
      {
       "metadata": {},
       "output_type": "display_data",
       "png": "[encoded data removed]",
       "text": [
        "<matplotlib.figure.Figure at 0x728c230>"
       ]
      }
     ],
     "prompt_number": 6
    },
    {
     "cell_type": "markdown",
     "metadata": {},
     "source": [
      "Figure out what the common wavenumber range is between all the spectra"
     ]
    },
    {
     "cell_type": "code",
     "collapsed": false,
     "input": [
      "starting_wn = max(d['FIRSTX'] for d in spectra)\n",
      "ending_wn = min(d['LASTX'] for d in spectra)\n",
      "print \"Wavenumbers between\", starting_wn, \"and\", ending_wn"
     ],
     "language": "python",
     "metadata": {},
     "outputs": [
      {
       "output_type": "stream",
       "stream": "stdout",
       "text": [
        "Wavenumbers between 550.0 and 3846.0\n"
       ]
      }
     ],
     "prompt_number": 7
    },
    {
     "cell_type": "code",
     "collapsed": false,
     "input": [
      "delta = 4"
     ],
     "language": "python",
     "metadata": {},
     "outputs": [],
     "prompt_number": 8
    },
    {
     "cell_type": "code",
     "collapsed": false,
     "input": [
      "common_numbers = arange(starting_wn, ending_wn+delta, delta)"
     ],
     "language": "python",
     "metadata": {},
     "outputs": [],
     "prompt_number": 9
    },
    {
     "cell_type": "markdown",
     "metadata": {},
     "source": [
      "Interpolate/resample to those values on the data"
     ]
    },
    {
     "cell_type": "code",
     "collapsed": false,
     "input": [
      "ss = {}\n",
      "for d in spectra:\n",
      "    s = pandas.Series(interp(common_numbers, d['XDATA'], d['YDATA']), index=common_numbers)\n",
      "    ss[d['CAS REGISTRY NO']] = s"
     ],
     "language": "python",
     "metadata": {},
     "outputs": [],
     "prompt_number": 10
    },
    {
     "cell_type": "markdown",
     "metadata": {},
     "source": [
      "Get these into a dataframe"
     ]
    },
    {
     "cell_type": "code",
     "collapsed": false,
     "input": [
      "df = pandas.DataFrame(ss)\n",
      "df.index.name = 'Wave number'"
     ],
     "language": "python",
     "metadata": {},
     "outputs": [],
     "prompt_number": 11
    },
    {
     "cell_type": "markdown",
     "metadata": {},
     "source": [
      "Write the dataframe to a CSV file"
     ]
    },
    {
     "cell_type": "code",
     "collapsed": false,
     "input": [
      "df.to_csv(os.path.join(datadir, 'absorbance_spectra.csv'))"
     ],
     "language": "python",
     "metadata": {},
     "outputs": [],
     "prompt_number": 12
    },
    {
     "cell_type": "markdown",
     "metadata": {},
     "source": [
      "Normalise to sum of 1...   nf = normalised frame"
     ]
    },
    {
     "cell_type": "code",
     "collapsed": false,
     "input": [
      "areas = [trapz(df[i], array(df.index)) for i in df]\n",
      "nf = df/areas"
     ],
     "language": "python",
     "metadata": {},
     "outputs": [],
     "prompt_number": 13
    },
    {
     "cell_type": "markdown",
     "metadata": {},
     "source": [
      "Write to file named \"absorbance_spectra_unity\""
     ]
    },
    {
     "cell_type": "code",
     "collapsed": false,
     "input": [
      "nf.to_csv(os.path.join(datadir, 'absorbance_spectra_unity.csv'))"
     ],
     "language": "python",
     "metadata": {},
     "outputs": [],
     "prompt_number": 14
    },
    {
     "cell_type": "code",
     "collapsed": false,
     "input": [
      "nf.head()"
     ],
     "language": "python",
     "metadata": {},
     "outputs": [
      {
       "html": [
        "<div style=\"max-height:1000px;max-width:1500px;overflow:auto;\">\n",
        "<table border=\"1\" class=\"dataframe\">\n",
        "  <thead>\n",
        "    <tr style=\"text-align: right;\">\n",
        "      <th></th>\n",
        "      <th>100-41-4</th>\n",
        "      <th>103-65-1</th>\n",
        "      <th>106-42-3</th>\n",
        "      <th>106-97-8</th>\n",
        "      <th>1067-08-9</th>\n",
        "      <th>1068-87-7</th>\n",
        "      <th>1069-53-0</th>\n",
        "      <th>107-83-5</th>\n",
        "      <th>1070-87-7</th>\n",
        "      <th>1072-05-5</th>\n",
        "      <th>1072-16-8</th>\n",
        "      <th>108-08-7</th>\n",
        "      <th>108-38-3</th>\n",
        "      <th>108-88-3</th>\n",
        "      <th>109-66-0</th>\n",
        "      <th>109-67-1</th>\n",
        "      <th>110-54-3</th>\n",
        "      <th>111-65-9</th>\n",
        "      <th>111-84-2</th>\n",
        "      <th>124-18-5</th>\n",
        "      <th></th>\n",
        "    </tr>\n",
        "    <tr>\n",
        "      <th>Wave number</th>\n",
        "      <th></th>\n",
        "      <th></th>\n",
        "      <th></th>\n",
        "      <th></th>\n",
        "      <th></th>\n",
        "      <th></th>\n",
        "      <th></th>\n",
        "      <th></th>\n",
        "      <th></th>\n",
        "      <th></th>\n",
        "      <th></th>\n",
        "      <th></th>\n",
        "      <th></th>\n",
        "      <th></th>\n",
        "      <th></th>\n",
        "      <th></th>\n",
        "      <th></th>\n",
        "      <th></th>\n",
        "      <th></th>\n",
        "      <th></th>\n",
        "    </tr>\n",
        "  </thead>\n",
        "  <tbody>\n",
        "    <tr>\n",
        "      <th>550</th>\n",
        "      <td> 0.000300</td>\n",
        "      <td> 0.000106</td>\n",
        "      <td> 0.000035</td>\n",
        "      <td> 0.000040</td>\n",
        "      <td> 0.000252</td>\n",
        "      <td> 0.000484</td>\n",
        "      <td> 0.000189</td>\n",
        "      <td> 0.000130</td>\n",
        "      <td> 0.000091</td>\n",
        "      <td> 0.000157</td>\n",
        "      <td> 0.000035</td>\n",
        "      <td> 0.000021</td>\n",
        "      <td> 0.000043</td>\n",
        "      <td> 0.000078</td>\n",
        "      <td> 0.000007</td>\n",
        "      <td> 0.000101</td>\n",
        "      <td> 0.000024</td>\n",
        "      <td> 0.000039</td>\n",
        "      <td> 0.000096</td>\n",
        "      <td> 0.000119</td>\n",
        "      <td>...</td>\n",
        "    </tr>\n",
        "    <tr>\n",
        "      <th>554</th>\n",
        "      <td> 0.000328</td>\n",
        "      <td> 0.000141</td>\n",
        "      <td> 0.000024</td>\n",
        "      <td> 0.000043</td>\n",
        "      <td> 0.000212</td>\n",
        "      <td> 0.000265</td>\n",
        "      <td> 0.000158</td>\n",
        "      <td> 0.000104</td>\n",
        "      <td> 0.000091</td>\n",
        "      <td> 0.000119</td>\n",
        "      <td> 0.000023</td>\n",
        "      <td> 0.000051</td>\n",
        "      <td> 0.000049</td>\n",
        "      <td> 0.000065</td>\n",
        "      <td> 0.000011</td>\n",
        "      <td> 0.000050</td>\n",
        "      <td> 0.000039</td>\n",
        "      <td> 0.000036</td>\n",
        "      <td> 0.000068</td>\n",
        "      <td> 0.000095</td>\n",
        "      <td>...</td>\n",
        "    </tr>\n",
        "    <tr>\n",
        "      <th>558</th>\n",
        "      <td> 0.000336</td>\n",
        "      <td> 0.000152</td>\n",
        "      <td> 0.000044</td>\n",
        "      <td> 0.000025</td>\n",
        "      <td> 0.000188</td>\n",
        "      <td> 0.000107</td>\n",
        "      <td> 0.000138</td>\n",
        "      <td> 0.000093</td>\n",
        "      <td> 0.000138</td>\n",
        "      <td> 0.000083</td>\n",
        "      <td> 0.000029</td>\n",
        "      <td> 0.000051</td>\n",
        "      <td> 0.000066</td>\n",
        "      <td> 0.000069</td>\n",
        "      <td> 0.000033</td>\n",
        "      <td> 0.000021</td>\n",
        "      <td> 0.000033</td>\n",
        "      <td> 0.000029</td>\n",
        "      <td> 0.000105</td>\n",
        "      <td> 0.000114</td>\n",
        "      <td>...</td>\n",
        "    </tr>\n",
        "    <tr>\n",
        "      <th>562</th>\n",
        "      <td> 0.000299</td>\n",
        "      <td> 0.000217</td>\n",
        "      <td> 0.000056</td>\n",
        "      <td> 0.000021</td>\n",
        "      <td> 0.000063</td>\n",
        "      <td> 0.000162</td>\n",
        "      <td> 0.000104</td>\n",
        "      <td> 0.000076</td>\n",
        "      <td> 0.000218</td>\n",
        "      <td> 0.000072</td>\n",
        "      <td> 0.000039</td>\n",
        "      <td> 0.000038</td>\n",
        "      <td> 0.000067</td>\n",
        "      <td> 0.000092</td>\n",
        "      <td> 0.000040</td>\n",
        "      <td> 0.000023</td>\n",
        "      <td> 0.000074</td>\n",
        "      <td> 0.000027</td>\n",
        "      <td> 0.000047</td>\n",
        "      <td> 0.000106</td>\n",
        "      <td>...</td>\n",
        "    </tr>\n",
        "    <tr>\n",
        "      <th>566</th>\n",
        "      <td> 0.000238</td>\n",
        "      <td> 0.000226</td>\n",
        "      <td> 0.000058</td>\n",
        "      <td> 0.000031</td>\n",
        "      <td> 0.000000</td>\n",
        "      <td> 0.000174</td>\n",
        "      <td> 0.000090</td>\n",
        "      <td> 0.000048</td>\n",
        "      <td> 0.000224</td>\n",
        "      <td> 0.000061</td>\n",
        "      <td> 0.000029</td>\n",
        "      <td> 0.000046</td>\n",
        "      <td> 0.000069</td>\n",
        "      <td> 0.000097</td>\n",
        "      <td> 0.000002</td>\n",
        "      <td> 0.000007</td>\n",
        "      <td> 0.000047</td>\n",
        "      <td> 0.000020</td>\n",
        "      <td> 0.000077</td>\n",
        "      <td> 0.000072</td>\n",
        "      <td>...</td>\n",
        "    </tr>\n",
        "  </tbody>\n",
        "</table>\n",
        "<p>5 rows \u00d7 62 columns</p>\n",
        "</div>"
       ],
       "metadata": {},
       "output_type": "pyout",
       "prompt_number": 15,
       "text": [
        "             100-41-4  103-65-1  106-42-3  106-97-8  1067-08-9  1068-87-7  \\\n",
        "Wave number                                                                 \n",
        "550          0.000300  0.000106  0.000035  0.000040   0.000252   0.000484   \n",
        "554          0.000328  0.000141  0.000024  0.000043   0.000212   0.000265   \n",
        "558          0.000336  0.000152  0.000044  0.000025   0.000188   0.000107   \n",
        "562          0.000299  0.000217  0.000056  0.000021   0.000063   0.000162   \n",
        "566          0.000238  0.000226  0.000058  0.000031   0.000000   0.000174   \n",
        "\n",
        "             1069-53-0  107-83-5  1070-87-7  1072-05-5  1072-16-8  108-08-7  \\\n",
        "Wave number                                                                   \n",
        "550           0.000189  0.000130   0.000091   0.000157   0.000035  0.000021   \n",
        "554           0.000158  0.000104   0.000091   0.000119   0.000023  0.000051   \n",
        "558           0.000138  0.000093   0.000138   0.000083   0.000029  0.000051   \n",
        "562           0.000104  0.000076   0.000218   0.000072   0.000039  0.000038   \n",
        "566           0.000090  0.000048   0.000224   0.000061   0.000029  0.000046   \n",
        "\n",
        "             108-38-3  108-88-3  109-66-0  109-67-1  110-54-3  111-65-9  \\\n",
        "Wave number                                                               \n",
        "550          0.000043  0.000078  0.000007  0.000101  0.000024  0.000039   \n",
        "554          0.000049  0.000065  0.000011  0.000050  0.000039  0.000036   \n",
        "558          0.000066  0.000069  0.000033  0.000021  0.000033  0.000029   \n",
        "562          0.000067  0.000092  0.000040  0.000023  0.000074  0.000027   \n",
        "566          0.000069  0.000097  0.000002  0.000007  0.000047  0.000020   \n",
        "\n",
        "             111-84-2  124-18-5      \n",
        "Wave number                          \n",
        "550          0.000096  0.000119 ...  \n",
        "554          0.000068  0.000095 ...  \n",
        "558          0.000105  0.000114 ...  \n",
        "562          0.000047  0.000106 ...  \n",
        "566          0.000077  0.000072 ...  \n",
        "\n",
        "[5 rows x 62 columns]"
       ]
      }
     ],
     "prompt_number": 15
    },
    {
     "cell_type": "markdown",
     "metadata": {},
     "source": [
      "PCA transformation on the Zero Mean values - 10 component vector"
     ]
    },
    {
     "cell_type": "code",
     "collapsed": false,
     "input": [
      "means = nf.sub(nf.mean(1), axis=0)\n",
      "means.plot(legend=False)\n",
      "gca().invert_xaxis()"
     ],
     "language": "python",
     "metadata": {},
     "outputs": [
      {
       "metadata": {},
       "output_type": "display_data",
       "png": "[encoded data removed]",
       "text": [
        "<matplotlib.figure.Figure at 0x89f9030>"
       ]
      }
     ],
     "prompt_number": 16
    },
    {
     "cell_type": "code",
     "collapsed": false,
     "input": [
      "zMean = nf - means\n",
      "zMean.head()"
     ],
     "language": "python",
     "metadata": {},
     "outputs": [
      {
       "html": [
        "<div style=\"max-height:1000px;max-width:1500px;overflow:auto;\">\n",
        "<table border=\"1\" class=\"dataframe\">\n",
        "  <thead>\n",
        "    <tr style=\"text-align: right;\">\n",
        "      <th></th>\n",
        "      <th>100-41-4</th>\n",
        "      <th>103-65-1</th>\n",
        "      <th>106-42-3</th>\n",
        "      <th>106-97-8</th>\n",
        "      <th>1067-08-9</th>\n",
        "      <th>1068-87-7</th>\n",
        "      <th>1069-53-0</th>\n",
        "      <th>107-83-5</th>\n",
        "      <th>1070-87-7</th>\n",
        "      <th>1072-05-5</th>\n",
        "      <th>1072-16-8</th>\n",
        "      <th>108-08-7</th>\n",
        "      <th>108-38-3</th>\n",
        "      <th>108-88-3</th>\n",
        "      <th>109-66-0</th>\n",
        "      <th>109-67-1</th>\n",
        "      <th>110-54-3</th>\n",
        "      <th>111-65-9</th>\n",
        "      <th>111-84-2</th>\n",
        "      <th>124-18-5</th>\n",
        "      <th></th>\n",
        "    </tr>\n",
        "    <tr>\n",
        "      <th>Wave number</th>\n",
        "      <th></th>\n",
        "      <th></th>\n",
        "      <th></th>\n",
        "      <th></th>\n",
        "      <th></th>\n",
        "      <th></th>\n",
        "      <th></th>\n",
        "      <th></th>\n",
        "      <th></th>\n",
        "      <th></th>\n",
        "      <th></th>\n",
        "      <th></th>\n",
        "      <th></th>\n",
        "      <th></th>\n",
        "      <th></th>\n",
        "      <th></th>\n",
        "      <th></th>\n",
        "      <th></th>\n",
        "      <th></th>\n",
        "      <th></th>\n",
        "    </tr>\n",
        "  </thead>\n",
        "  <tbody>\n",
        "    <tr>\n",
        "      <th>550</th>\n",
        "      <td> 0.000094</td>\n",
        "      <td> 0.000094</td>\n",
        "      <td> 0.000094</td>\n",
        "      <td> 0.000094</td>\n",
        "      <td> 0.000094</td>\n",
        "      <td> 0.000094</td>\n",
        "      <td> 0.000094</td>\n",
        "      <td> 0.000094</td>\n",
        "      <td> 0.000094</td>\n",
        "      <td> 0.000094</td>\n",
        "      <td> 0.000094</td>\n",
        "      <td> 0.000094</td>\n",
        "      <td> 0.000094</td>\n",
        "      <td> 0.000094</td>\n",
        "      <td> 0.000094</td>\n",
        "      <td> 0.000094</td>\n",
        "      <td> 0.000094</td>\n",
        "      <td> 0.000094</td>\n",
        "      <td> 0.000094</td>\n",
        "      <td> 0.000094</td>\n",
        "      <td>...</td>\n",
        "    </tr>\n",
        "    <tr>\n",
        "      <th>554</th>\n",
        "      <td> 0.000079</td>\n",
        "      <td> 0.000079</td>\n",
        "      <td> 0.000079</td>\n",
        "      <td> 0.000079</td>\n",
        "      <td> 0.000079</td>\n",
        "      <td> 0.000079</td>\n",
        "      <td> 0.000079</td>\n",
        "      <td> 0.000079</td>\n",
        "      <td> 0.000079</td>\n",
        "      <td> 0.000079</td>\n",
        "      <td> 0.000079</td>\n",
        "      <td> 0.000079</td>\n",
        "      <td> 0.000079</td>\n",
        "      <td> 0.000079</td>\n",
        "      <td> 0.000079</td>\n",
        "      <td> 0.000079</td>\n",
        "      <td> 0.000079</td>\n",
        "      <td> 0.000079</td>\n",
        "      <td> 0.000079</td>\n",
        "      <td> 0.000079</td>\n",
        "      <td>...</td>\n",
        "    </tr>\n",
        "    <tr>\n",
        "      <th>558</th>\n",
        "      <td> 0.000067</td>\n",
        "      <td> 0.000067</td>\n",
        "      <td> 0.000067</td>\n",
        "      <td> 0.000067</td>\n",
        "      <td> 0.000067</td>\n",
        "      <td> 0.000067</td>\n",
        "      <td> 0.000067</td>\n",
        "      <td> 0.000067</td>\n",
        "      <td> 0.000067</td>\n",
        "      <td> 0.000067</td>\n",
        "      <td> 0.000067</td>\n",
        "      <td> 0.000067</td>\n",
        "      <td> 0.000067</td>\n",
        "      <td> 0.000067</td>\n",
        "      <td> 0.000067</td>\n",
        "      <td> 0.000067</td>\n",
        "      <td> 0.000067</td>\n",
        "      <td> 0.000067</td>\n",
        "      <td> 0.000067</td>\n",
        "      <td> 0.000067</td>\n",
        "      <td>...</td>\n",
        "    </tr>\n",
        "    <tr>\n",
        "      <th>562</th>\n",
        "      <td> 0.000069</td>\n",
        "      <td> 0.000069</td>\n",
        "      <td> 0.000069</td>\n",
        "      <td> 0.000069</td>\n",
        "      <td> 0.000069</td>\n",
        "      <td> 0.000069</td>\n",
        "      <td> 0.000069</td>\n",
        "      <td> 0.000069</td>\n",
        "      <td> 0.000069</td>\n",
        "      <td> 0.000069</td>\n",
        "      <td> 0.000069</td>\n",
        "      <td> 0.000069</td>\n",
        "      <td> 0.000069</td>\n",
        "      <td> 0.000069</td>\n",
        "      <td> 0.000069</td>\n",
        "      <td> 0.000069</td>\n",
        "      <td> 0.000069</td>\n",
        "      <td> 0.000069</td>\n",
        "      <td> 0.000069</td>\n",
        "      <td> 0.000069</td>\n",
        "      <td>...</td>\n",
        "    </tr>\n",
        "    <tr>\n",
        "      <th>566</th>\n",
        "      <td> 0.000066</td>\n",
        "      <td> 0.000066</td>\n",
        "      <td> 0.000066</td>\n",
        "      <td> 0.000066</td>\n",
        "      <td> 0.000066</td>\n",
        "      <td> 0.000066</td>\n",
        "      <td> 0.000066</td>\n",
        "      <td> 0.000066</td>\n",
        "      <td> 0.000066</td>\n",
        "      <td> 0.000066</td>\n",
        "      <td> 0.000066</td>\n",
        "      <td> 0.000066</td>\n",
        "      <td> 0.000066</td>\n",
        "      <td> 0.000066</td>\n",
        "      <td> 0.000066</td>\n",
        "      <td> 0.000066</td>\n",
        "      <td> 0.000066</td>\n",
        "      <td> 0.000066</td>\n",
        "      <td> 0.000066</td>\n",
        "      <td> 0.000066</td>\n",
        "      <td>...</td>\n",
        "    </tr>\n",
        "  </tbody>\n",
        "</table>\n",
        "<p>5 rows \u00d7 62 columns</p>\n",
        "</div>"
       ],
       "metadata": {},
       "output_type": "pyout",
       "prompt_number": 17,
       "text": [
        "             100-41-4  103-65-1  106-42-3  106-97-8  1067-08-9  1068-87-7  \\\n",
        "Wave number                                                                 \n",
        "550          0.000094  0.000094  0.000094  0.000094   0.000094   0.000094   \n",
        "554          0.000079  0.000079  0.000079  0.000079   0.000079   0.000079   \n",
        "558          0.000067  0.000067  0.000067  0.000067   0.000067   0.000067   \n",
        "562          0.000069  0.000069  0.000069  0.000069   0.000069   0.000069   \n",
        "566          0.000066  0.000066  0.000066  0.000066   0.000066   0.000066   \n",
        "\n",
        "             1069-53-0  107-83-5  1070-87-7  1072-05-5  1072-16-8  108-08-7  \\\n",
        "Wave number                                                                   \n",
        "550           0.000094  0.000094   0.000094   0.000094   0.000094  0.000094   \n",
        "554           0.000079  0.000079   0.000079   0.000079   0.000079  0.000079   \n",
        "558           0.000067  0.000067   0.000067   0.000067   0.000067  0.000067   \n",
        "562           0.000069  0.000069   0.000069   0.000069   0.000069  0.000069   \n",
        "566           0.000066  0.000066   0.000066   0.000066   0.000066  0.000066   \n",
        "\n",
        "             108-38-3  108-88-3  109-66-0  109-67-1  110-54-3  111-65-9  \\\n",
        "Wave number                                                               \n",
        "550          0.000094  0.000094  0.000094  0.000094  0.000094  0.000094   \n",
        "554          0.000079  0.000079  0.000079  0.000079  0.000079  0.000079   \n",
        "558          0.000067  0.000067  0.000067  0.000067  0.000067  0.000067   \n",
        "562          0.000069  0.000069  0.000069  0.000069  0.000069  0.000069   \n",
        "566          0.000066  0.000066  0.000066  0.000066  0.000066  0.000066   \n",
        "\n",
        "             111-84-2  124-18-5      \n",
        "Wave number                          \n",
        "550          0.000094  0.000094 ...  \n",
        "554          0.000079  0.000079 ...  \n",
        "558          0.000067  0.000067 ...  \n",
        "562          0.000069  0.000069 ...  \n",
        "566          0.000066  0.000066 ...  \n",
        "\n",
        "[5 rows x 62 columns]"
       ]
      }
     ],
     "prompt_number": 17
    },
    {
     "cell_type": "code",
     "collapsed": false,
     "input": [
      "from sklearn.decomposition import PCA\n",
      "\n",
      "#pca = PCA(n_components=10)\n",
      "#X_PCA = pca.fit(nf.transpose()).transform(nf.transpose())\n",
      "#print \"Variance Ratio (10 components): \" \n",
      "#print (pca.explained_variance_ratio_)"
     ],
     "language": "python",
     "metadata": {},
     "outputs": [],
     "prompt_number": 18
    },
    {
     "cell_type": "code",
     "collapsed": false,
     "input": [
      "pca = PCA(n_components=2)\n",
      "X_PCA = pca.fit(zMean.transpose()).transform(zMean.transpose())\n",
      "print \"Variance Ratio (3 Components): \"\n",
      "print (pca.explained_variance_ratio_)"
     ],
     "language": "python",
     "metadata": {},
     "outputs": [
      {
       "output_type": "stream",
       "stream": "stdout",
       "text": [
        "Variance Ratio (3 Components): \n",
        "[  9.99448851e-01   1.82788187e-04]\n"
       ]
      }
     ],
     "prompt_number": 19
    },
    {
     "cell_type": "markdown",
     "metadata": {},
     "source": [
      "SCREE PLOT: Determine how many Princpal components are needed"
     ]
    },
    {
     "cell_type": "code",
     "collapsed": false,
     "input": [
      "plot(numpy.arange(len(pca.explained_variance_ratio_)), pca.explained_variance_ratio_)"
     ],
     "language": "python",
     "metadata": {},
     "outputs": [
      {
       "metadata": {},
       "output_type": "pyout",
       "prompt_number": 20,
       "text": [
        "[<matplotlib.lines.Line2D at 0x9725310>]"
       ]
      },
      {
       "metadata": {},
       "output_type": "display_data",
       "png": "[encoded data removed]",
       "text": [
        "<matplotlib.figure.Figure at 0x96a9730>"
       ]
      }
     ],
     "prompt_number": 20
    },
    {
     "cell_type": "code",
     "collapsed": false,
     "input": [
      "old = X_PCA[11]\n",
      "old_pl = pca.inverse_transform(old)"
     ],
     "language": "python",
     "metadata": {},
     "outputs": [],
     "prompt_number": 21
    },
    {
     "cell_type": "code",
     "collapsed": false,
     "input": [
      "figure()\n",
      "gca().invert_xaxis()\n",
      "plot(nf.index, old_pl)\n",
      "title('Transformed')\n",
      "\n",
      "figure()\n",
      "gca().invert_xaxis()\n",
      "plot(nf.index, nf['108-08-7'])\n",
      "title(\"Real\")"
     ],
     "language": "python",
     "metadata": {},
     "outputs": [
      {
       "metadata": {},
       "output_type": "pyout",
       "prompt_number": 22,
       "text": [
        "<matplotlib.text.Text at 0xeac0bb0>"
       ]
      },
      {
       "metadata": {},
       "output_type": "display_data",
       "png": "[encoded data removed]",
       "text": [
        "<matplotlib.figure.Figure at 0x96f9ad0>"
       ]
      },
      {
       "metadata": {},
       "output_type": "display_data",
       "png": "[encoded data removed]",
       "text": [
        "<matplotlib.figure.Figure at 0xea95f30>"
       ]
      }
     ],
     "prompt_number": 22
    },
    {
     "cell_type": "code",
     "collapsed": false,
     "input": [
      "pca_d = {}\n",
      "count = 0\n",
      "for k in spectra:\n",
      "    if count < 62:\n",
      "        pca_d[k['CAS REGISTRY NO']] =  X_PCA[count]\n",
      "        count = count + 1\n",
      "    else:\n",
      "        pca_d[k['CAS REGISTRY NO']] = X_PCA[61]\n",
      "        \n",
      "        \n",
      "pca_df = pandas.DataFrame(pca_d)"
     ],
     "language": "python",
     "metadata": {},
     "outputs": [],
     "prompt_number": 23
    },
    {
     "cell_type": "heading",
     "level": 4,
     "metadata": {},
     "source": [
      "PCA Data Frame: Each compound has been reduced to 10 coefficients"
     ]
    },
    {
     "cell_type": "code",
     "collapsed": false,
     "input": [
      "pca_df"
     ],
     "language": "python",
     "metadata": {},
     "outputs": [
      {
       "html": [
        "<div style=\"max-height:1000px;max-width:1500px;overflow:auto;\">\n",
        "<table border=\"1\" class=\"dataframe\">\n",
        "  <thead>\n",
        "    <tr style=\"text-align: right;\">\n",
        "      <th></th>\n",
        "      <th>100-41-4</th>\n",
        "      <th>103-65-1</th>\n",
        "      <th>106-42-3</th>\n",
        "      <th>106-97-8</th>\n",
        "      <th>1067-08-9</th>\n",
        "      <th>1068-87-7</th>\n",
        "      <th>1069-53-0</th>\n",
        "      <th>107-83-5</th>\n",
        "      <th>1070-87-7</th>\n",
        "      <th>1072-05-5</th>\n",
        "      <th>1072-16-8</th>\n",
        "      <th>108-08-7</th>\n",
        "      <th>108-38-3</th>\n",
        "      <th>108-88-3</th>\n",
        "      <th>109-66-0</th>\n",
        "      <th>109-67-1</th>\n",
        "      <th>110-54-3</th>\n",
        "      <th>111-65-9</th>\n",
        "      <th>111-84-2</th>\n",
        "      <th>124-18-5</th>\n",
        "      <th></th>\n",
        "    </tr>\n",
        "  </thead>\n",
        "  <tbody>\n",
        "    <tr>\n",
        "      <th>0</th>\n",
        "      <td>-1.943467e-17</td>\n",
        "      <td>-1.942822e-17</td>\n",
        "      <td>-1.915294e-17</td>\n",
        "      <td>-1.942196e-17</td>\n",
        "      <td>-1.942213e-17</td>\n",
        "      <td>-1.942249e-17</td>\n",
        "      <td>-1.942144e-17</td>\n",
        "      <td>-1.942333e-17</td>\n",
        "      <td>-1.942195e-17</td>\n",
        "      <td>-1.942046e-17</td>\n",
        "      <td>-1.941825e-17</td>\n",
        "      <td>-1.942368e-17</td>\n",
        "      <td>-1.963694e-17</td>\n",
        "      <td>-2.004331e-17</td>\n",
        "      <td>-1.942309e-17</td>\n",
        "      <td>-1.942174e-17</td>\n",
        "      <td>-1.942392e-17</td>\n",
        "      <td>-1.942397e-17</td>\n",
        "      <td>-1.941858e-17</td>\n",
        "      <td>-1.941787e-17</td>\n",
        "      <td>...</td>\n",
        "    </tr>\n",
        "    <tr>\n",
        "      <th>1</th>\n",
        "      <td>-2.481190e-20</td>\n",
        "      <td>-3.465087e-20</td>\n",
        "      <td> 6.314420e-19</td>\n",
        "      <td>-3.329937e-20</td>\n",
        "      <td>-3.426338e-20</td>\n",
        "      <td>-3.495780e-20</td>\n",
        "      <td>-3.749336e-20</td>\n",
        "      <td>-3.179202e-20</td>\n",
        "      <td>-3.264115e-20</td>\n",
        "      <td>-3.115862e-20</td>\n",
        "      <td>-3.351730e-20</td>\n",
        "      <td>-3.084148e-20</td>\n",
        "      <td>-7.233310e-19</td>\n",
        "      <td> 6.272395e-19</td>\n",
        "      <td>-3.187037e-20</td>\n",
        "      <td>-3.948943e-20</td>\n",
        "      <td>-3.566896e-20</td>\n",
        "      <td>-3.432488e-20</td>\n",
        "      <td>-3.036864e-20</td>\n",
        "      <td>-3.456494e-20</td>\n",
        "      <td>...</td>\n",
        "    </tr>\n",
        "  </tbody>\n",
        "</table>\n",
        "<p>2 rows \u00d7 62 columns</p>\n",
        "</div>"
       ],
       "metadata": {},
       "output_type": "pyout",
       "prompt_number": 24,
       "text": [
        "       100-41-4      103-65-1      106-42-3      106-97-8     1067-08-9  \\\n",
        "0 -1.943467e-17 -1.942822e-17 -1.915294e-17 -1.942196e-17 -1.942213e-17   \n",
        "1 -2.481190e-20 -3.465087e-20  6.314420e-19 -3.329937e-20 -3.426338e-20   \n",
        "\n",
        "      1068-87-7     1069-53-0      107-83-5     1070-87-7     1072-05-5  \\\n",
        "0 -1.942249e-17 -1.942144e-17 -1.942333e-17 -1.942195e-17 -1.942046e-17   \n",
        "1 -3.495780e-20 -3.749336e-20 -3.179202e-20 -3.264115e-20 -3.115862e-20   \n",
        "\n",
        "      1072-16-8      108-08-7      108-38-3      108-88-3      109-66-0  \\\n",
        "0 -1.941825e-17 -1.942368e-17 -1.963694e-17 -2.004331e-17 -1.942309e-17   \n",
        "1 -3.351730e-20 -3.084148e-20 -7.233310e-19  6.272395e-19 -3.187037e-20   \n",
        "\n",
        "       109-67-1      110-54-3      111-65-9      111-84-2      124-18-5      \n",
        "0 -1.942174e-17 -1.942392e-17 -1.942397e-17 -1.941858e-17 -1.941787e-17 ...  \n",
        "1 -3.948943e-20 -3.566896e-20 -3.432488e-20 -3.036864e-20 -3.456494e-20 ...  \n",
        "\n",
        "[2 rows x 62 columns]"
       ]
      }
     ],
     "prompt_number": 24
    },
    {
     "cell_type": "markdown",
     "metadata": {},
     "source": [
      "Feed a random spectrum and determine its PCA vector"
     ]
    },
    {
     "cell_type": "code",
     "collapsed": false,
     "input": [
      "a = spectra[0]\n",
      "b = spectra[1]\n",
      "\n",
      "randSpec = (df[a['CAS REGISTRY NO']] + df[b['CAS REGISTRY NO']])/2.0\n",
      "rand_pca = pca.fit_transform(randSpec)"
     ],
     "language": "python",
     "metadata": {},
     "outputs": [],
     "prompt_number": 25
    },
    {
     "cell_type": "code",
     "collapsed": false,
     "input": [
      "print X_PCA[0]\n",
      "print X_PCA[1]\n",
      "print rand_pca\n",
      "\n",
      "randSpec_new = pca.inverse_transform(rand_pca)"
     ],
     "language": "python",
     "metadata": {},
     "outputs": [
      {
       "output_type": "stream",
       "stream": "stdout",
       "text": [
        "[ -1.94346652e-17  -2.48118958e-20]\n",
        "[ -1.94282194e-17  -3.46508694e-20]\n",
        "[[ 0.]]\n"
       ]
      }
     ],
     "prompt_number": 26
    },
    {
     "cell_type": "code",
     "collapsed": false,
     "input": [
      "figure()\n",
      "plot(df.index, randSpec_new[0])\n",
      "title('PCA Inverse')\n",
      "\n",
      "figure()\n",
      "plot(df.index, randSpec)\n",
      "title('Original Random Spectrum')"
     ],
     "language": "python",
     "metadata": {},
     "outputs": [
      {
       "metadata": {},
       "output_type": "pyout",
       "prompt_number": 27,
       "text": [
        "<matplotlib.text.Text at 0xec94e50>"
       ]
      },
      {
       "metadata": {},
       "output_type": "display_data",
       "png": "[encoded data removed]",
       "text": [
        "<matplotlib.figure.Figure at 0x96f0c70>"
       ]
      },
      {
       "metadata": {},
       "output_type": "display_data",
       "png": "[encoded data removed]",
       "text": [
        "<matplotlib.figure.Figure at 0x9755f50>"
       ]
      }
     ],
     "prompt_number": 27
    },
    {
     "cell_type": "heading",
     "level": 4,
     "metadata": {},
     "source": [
      ">>>>  Therefore, it is possible to fit random spectra and find their PCA inverse"
     ]
    },
    {
     "cell_type": "markdown",
     "metadata": {},
     "source": [
      "Mean of the Octane Numbers: Using Only RON numbers...flatCAS in datadir is the updated RON and MON numbers"
     ]
    },
    {
     "cell_type": "code",
     "collapsed": false,
     "input": [
      "ON_df = pandas.DataFrame()\n",
      "ON = ON_df.from_csv(os.path.join(datadir, 'flatCAS.csv'))\n",
      "ON.head()"
     ],
     "language": "python",
     "metadata": {},
     "outputs": [
      {
       "html": [
        "<div style=\"max-height:1000px;max-width:1500px;overflow:auto;\">\n",
        "<table border=\"1\" class=\"dataframe\">\n",
        "  <thead>\n",
        "    <tr style=\"text-align: right;\">\n",
        "      <th></th>\n",
        "      <th>RON</th>\n",
        "      <th>MON</th>\n",
        "    </tr>\n",
        "    <tr>\n",
        "      <th>CAS</th>\n",
        "      <th></th>\n",
        "      <th></th>\n",
        "    </tr>\n",
        "  </thead>\n",
        "  <tbody>\n",
        "    <tr>\n",
        "      <th>74-98-6</th>\n",
        "      <td> 112.0</td>\n",
        "      <td>  0.0</td>\n",
        "    </tr>\n",
        "    <tr>\n",
        "      <th>106-97-8</th>\n",
        "      <td>  93.6</td>\n",
        "      <td> 90.1</td>\n",
        "    </tr>\n",
        "    <tr>\n",
        "      <th>75-28-5</th>\n",
        "      <td> 102.0</td>\n",
        "      <td> 97.6</td>\n",
        "    </tr>\n",
        "    <tr>\n",
        "      <th>109-66-0</th>\n",
        "      <td>  61.7</td>\n",
        "      <td> 61.9</td>\n",
        "    </tr>\n",
        "    <tr>\n",
        "      <th>78-78-4</th>\n",
        "      <td>  92.3</td>\n",
        "      <td> 90.3</td>\n",
        "    </tr>\n",
        "  </tbody>\n",
        "</table>\n",
        "<p>5 rows \u00d7 2 columns</p>\n",
        "</div>"
       ],
       "metadata": {},
       "output_type": "pyout",
       "prompt_number": 51,
       "text": [
        "            RON   MON\n",
        "CAS                  \n",
        "74-98-6   112.0   0.0\n",
        "106-97-8   93.6  90.1\n",
        "75-28-5   102.0  97.6\n",
        "109-66-0   61.7  61.9\n",
        "78-78-4    92.3  90.3\n",
        "\n",
        "[5 rows x 2 columns]"
       ]
      }
     ],
     "prompt_number": 51
    },
    {
     "cell_type": "code",
     "collapsed": false,
     "input": [
      "ON_mean = ON['RON'].mean(1)\n",
      "ON_bar = ON - ON_mean\n",
      "ON_bar.head()"
     ],
     "language": "python",
     "metadata": {},
     "outputs": [
      {
       "html": [
        "<div style=\"max-height:1000px;max-width:1500px;overflow:auto;\">\n",
        "<table border=\"1\" class=\"dataframe\">\n",
        "  <thead>\n",
        "    <tr style=\"text-align: right;\">\n",
        "      <th></th>\n",
        "      <th>RON</th>\n",
        "      <th>MON</th>\n",
        "    </tr>\n",
        "    <tr>\n",
        "      <th>CAS</th>\n",
        "      <th></th>\n",
        "      <th></th>\n",
        "    </tr>\n",
        "  </thead>\n",
        "  <tbody>\n",
        "    <tr>\n",
        "      <th>74-98-6</th>\n",
        "      <td> 33.644262</td>\n",
        "      <td>-78.355738</td>\n",
        "    </tr>\n",
        "    <tr>\n",
        "      <th>106-97-8</th>\n",
        "      <td> 15.244262</td>\n",
        "      <td> 11.744262</td>\n",
        "    </tr>\n",
        "    <tr>\n",
        "      <th>75-28-5</th>\n",
        "      <td> 23.644262</td>\n",
        "      <td> 19.244262</td>\n",
        "    </tr>\n",
        "    <tr>\n",
        "      <th>109-66-0</th>\n",
        "      <td>-16.655738</td>\n",
        "      <td>-16.455738</td>\n",
        "    </tr>\n",
        "    <tr>\n",
        "      <th>78-78-4</th>\n",
        "      <td> 13.944262</td>\n",
        "      <td> 11.944262</td>\n",
        "    </tr>\n",
        "  </tbody>\n",
        "</table>\n",
        "<p>5 rows \u00d7 2 columns</p>\n",
        "</div>"
       ],
       "metadata": {},
       "output_type": "pyout",
       "prompt_number": 52,
       "text": [
        "                RON        MON\n",
        "CAS                           \n",
        "74-98-6   33.644262 -78.355738\n",
        "106-97-8  15.244262  11.744262\n",
        "75-28-5   23.644262  19.244262\n",
        "109-66-0 -16.655738 -16.455738\n",
        "78-78-4   13.944262  11.944262\n",
        "\n",
        "[5 rows x 2 columns]"
       ]
      }
     ],
     "prompt_number": 52
    },
    {
     "cell_type": "heading",
     "level": 4,
     "metadata": {},
     "source": [
      "Plot 'Ci' against mean removed RON"
     ]
    },
    {
     "cell_type": "code",
     "collapsed": false,
     "input": [
      "x = [];\n",
      "for CAS in ON_bar.transpose():\n",
      "    #So as to get the same CAS order as the ON data frame \n",
      "    x.append(pca_df[CAS][0])\n",
      "    \n",
      "plot(x, ON_bar['RON'])\n",
      "xlabel('Ci')\n",
      "ylabel('RON_bar')"
     ],
     "language": "python",
     "metadata": {},
     "outputs": [
      {
       "metadata": {},
       "output_type": "pyout",
       "prompt_number": 74,
       "text": [
        "<matplotlib.text.Text at 0xeeeaed0>"
       ]
      },
      {
       "metadata": {},
       "output_type": "display_data",
       "png": "[encoded data removed]",
       "text": [
        "<matplotlib.figure.Figure at 0xeec0590>"
       ]
      }
     ],
     "prompt_number": 74
    }
   ],
   "metadata": {}
  }
 ]
}