{
 "metadata": {
  "name": "",
  "signature": "sha256:2090c34a531f46605895c66200c377fe7aad1901e1aa3d423d90bc8bdfb03ba4"
 },
 "nbformat": 3,
 "nbformat_minor": 0,
 "worksheets": [
  {
   "cells": [
    {
     "cell_type": "code",
     "collapsed": false,
     "input": [
      "%pylab inline"
     ],
     "language": "python",
     "metadata": {},
     "outputs": [
      {
       "output_type": "stream",
       "stream": "stdout",
       "text": [
        "Populating the interactive namespace from numpy and matplotlib\n"
       ]
      }
     ],
     "prompt_number": 1
    },
    {
     "cell_type": "code",
     "collapsed": false,
     "input": [
      "import pandas\n",
      "import jcamp\n",
      "import os.path\n",
      "import glob"
     ],
     "language": "python",
     "metadata": {},
     "outputs": [],
     "prompt_number": 2
    },
    {
     "cell_type": "markdown",
     "metadata": {},
     "source": [
      "Read data directory. expanduser is used to expand the ~ symbol in the data."
     ]
    },
    {
     "cell_type": "code",
     "collapsed": false,
     "input": [
      "import json\n",
      "config = json.load(open('config.json'))\n",
      "datadir = os.path.expanduser(config['datadir'])"
     ],
     "language": "python",
     "metadata": {},
     "outputs": [],
     "prompt_number": 3
    },
    {
     "cell_type": "code",
     "collapsed": false,
     "input": [
      "spectra = []\n",
      "for filename in glob.glob(os.path.join(datadir, 'IR Spectra', '*.jdx')):\n",
      "    d = jcamp.read_jcamp(filename)\n",
      "    spectra.append(d)"
     ],
     "language": "python",
     "metadata": {},
     "outputs": [],
     "prompt_number": 4
    },
    {
     "cell_type": "markdown",
     "metadata": {},
     "source": [
      "Where do we have data?"
     ]
    },
    {
     "cell_type": "code",
     "collapsed": false,
     "input": [
      "ranges = []\n",
      "for d in spectra:\n",
      "    ranges += [[d['FIRSTX'], +1], [d['LASTX'], -1]]\n",
      "ranges.sort()\n",
      "ranges = array(ranges)\n",
      "plot(ranges[:, 0], cumsum(ranges[:, 1])/len(spectra))\n",
      "xlabel('Wavenumber')\n",
      "ylabel('Fraction of spectra with data here')"
     ],
     "language": "python",
     "metadata": {},
     "outputs": [
      {
       "metadata": {},
       "output_type": "pyout",
       "prompt_number": 5,
       "text": [
        "<matplotlib.text.Text at 0x8989a50>"
       ]
      },
      {
       "metadata": {},
       "output_type": "display_data",
       "png": "[encoded data removed]",
       "text": [
        "<matplotlib.figure.Figure at 0x79bedd0>"
       ]
      }
     ],
     "prompt_number": 5
    },
    {
     "cell_type": "markdown",
     "metadata": {},
     "source": [
      "Figure out what the common wavenumber range is between all the spectra"
     ]
    },
    {
     "cell_type": "code",
     "collapsed": false,
     "input": [
      "starting_wn = max(d['FIRSTX'] for d in spectra)\n",
      "ending_wn = min(d['LASTX'] for d in spectra)\n",
      "print \"Wavenumbers between\", starting_wn, \"and\", ending_wn"
     ],
     "language": "python",
     "metadata": {},
     "outputs": [
      {
       "output_type": "stream",
       "stream": "stdout",
       "text": [
        "Wavenumbers between 550.0 and 3846.0\n"
       ]
      }
     ],
     "prompt_number": 6
    },
    {
     "cell_type": "code",
     "collapsed": false,
     "input": [
      "delta = 4"
     ],
     "language": "python",
     "metadata": {},
     "outputs": [],
     "prompt_number": 7
    },
    {
     "cell_type": "code",
     "collapsed": false,
     "input": [
      "common_numbers = arange(starting_wn, ending_wn+delta, delta)"
     ],
     "language": "python",
     "metadata": {},
     "outputs": [],
     "prompt_number": 8
    },
    {
     "cell_type": "markdown",
     "metadata": {},
     "source": [
      "Interpolate/resample to those values on the data"
     ]
    },
    {
     "cell_type": "code",
     "collapsed": false,
     "input": [
      "ss = {}\n",
      "for d in spectra:\n",
      "    s = pandas.Series(interp(common_numbers, d['XDATA'], d['YDATA']), index=common_numbers)\n",
      "    ss[d['CAS REGISTRY NO']] = s"
     ],
     "language": "python",
     "metadata": {},
     "outputs": [],
     "prompt_number": 9
    },
    {
     "cell_type": "markdown",
     "metadata": {},
     "source": [
      "Get these into a dataframe"
     ]
    },
    {
     "cell_type": "code",
     "collapsed": false,
     "input": [
      "df = pandas.DataFrame(ss)\n",
      "df.index.name = 'Wave number'"
     ],
     "language": "python",
     "metadata": {},
     "outputs": [],
     "prompt_number": 10
    },
    {
     "cell_type": "markdown",
     "metadata": {},
     "source": [
      "Write the dataframe to a CSV file"
     ]
    },
    {
     "cell_type": "code",
     "collapsed": false,
     "input": [
      "df.to_csv(os.path.join(datadir, 'absorbance_spectra.csv'))"
     ],
     "language": "python",
     "metadata": {},
     "outputs": [],
     "prompt_number": 11
    },
    {
     "cell_type": "markdown",
     "metadata": {},
     "source": [
      "Normalise to sum of 1...   nf = normalised frame"
     ]
    },
    {
     "cell_type": "code",
     "collapsed": false,
     "input": [
      "areas = [trapz(df[i], array(df.index)) for i in df]\n",
      "nf = df/areas"
     ],
     "language": "python",
     "metadata": {},
     "outputs": [],
     "prompt_number": 12
    },
    {
     "cell_type": "markdown",
     "metadata": {},
     "source": [
      "Write to file named \"absorbance_spectra_unity\""
     ]
    },
    {
     "cell_type": "code",
     "collapsed": false,
     "input": [
      "nf.to_csv(os.path.join(datadir, 'absorbance_spectra_unity.csv'))"
     ],
     "language": "python",
     "metadata": {},
     "outputs": [],
     "prompt_number": 13
    },
    {
     "cell_type": "code",
     "collapsed": false,
     "input": [
      "nf.head()"
     ],
     "language": "python",
     "metadata": {},
     "outputs": [
      {
       "html": [
        "<div style=\"max-height:1000px;max-width:1500px;overflow:auto;\">\n",
        "<table border=\"1\" class=\"dataframe\">\n",
        "  <thead>\n",
        "    <tr style=\"text-align: right;\">\n",
        "      <th></th>\n",
        "      <th>100-41-4</th>\n",
        "      <th>103-65-1</th>\n",
        "      <th>106-42-3</th>\n",
        "      <th>106-97-8</th>\n",
        "      <th>1067-08-9</th>\n",
        "      <th>1068-87-7</th>\n",
        "      <th>1069-53-0</th>\n",
        "      <th>107-83-5</th>\n",
        "      <th>1070-87-7</th>\n",
        "      <th>1072-05-5</th>\n",
        "      <th>1072-16-8</th>\n",
        "      <th>108-08-7</th>\n",
        "      <th>108-38-3</th>\n",
        "      <th>108-88-3</th>\n",
        "      <th>109-66-0</th>\n",
        "      <th>109-67-1</th>\n",
        "      <th>110-54-3</th>\n",
        "      <th>111-65-9</th>\n",
        "      <th>111-84-2</th>\n",
        "      <th>124-18-5</th>\n",
        "      <th></th>\n",
        "    </tr>\n",
        "    <tr>\n",
        "      <th>Wave number</th>\n",
        "      <th></th>\n",
        "      <th></th>\n",
        "      <th></th>\n",
        "      <th></th>\n",
        "      <th></th>\n",
        "      <th></th>\n",
        "      <th></th>\n",
        "      <th></th>\n",
        "      <th></th>\n",
        "      <th></th>\n",
        "      <th></th>\n",
        "      <th></th>\n",
        "      <th></th>\n",
        "      <th></th>\n",
        "      <th></th>\n",
        "      <th></th>\n",
        "      <th></th>\n",
        "      <th></th>\n",
        "      <th></th>\n",
        "      <th></th>\n",
        "    </tr>\n",
        "  </thead>\n",
        "  <tbody>\n",
        "    <tr>\n",
        "      <th>550</th>\n",
        "      <td> 0.000300</td>\n",
        "      <td> 0.000106</td>\n",
        "      <td> 0.000035</td>\n",
        "      <td> 0.000040</td>\n",
        "      <td> 0.000252</td>\n",
        "      <td> 0.000484</td>\n",
        "      <td> 0.000189</td>\n",
        "      <td> 0.000130</td>\n",
        "      <td> 0.000091</td>\n",
        "      <td> 0.000157</td>\n",
        "      <td> 0.000035</td>\n",
        "      <td> 0.000021</td>\n",
        "      <td> 0.000043</td>\n",
        "      <td> 0.000078</td>\n",
        "      <td> 0.000007</td>\n",
        "      <td> 0.000101</td>\n",
        "      <td> 0.000024</td>\n",
        "      <td> 0.000039</td>\n",
        "      <td> 0.000096</td>\n",
        "      <td> 0.000119</td>\n",
        "      <td>...</td>\n",
        "    </tr>\n",
        "    <tr>\n",
        "      <th>554</th>\n",
        "      <td> 0.000328</td>\n",
        "      <td> 0.000141</td>\n",
        "      <td> 0.000024</td>\n",
        "      <td> 0.000043</td>\n",
        "      <td> 0.000212</td>\n",
        "      <td> 0.000265</td>\n",
        "      <td> 0.000158</td>\n",
        "      <td> 0.000104</td>\n",
        "      <td> 0.000091</td>\n",
        "      <td> 0.000119</td>\n",
        "      <td> 0.000023</td>\n",
        "      <td> 0.000051</td>\n",
        "      <td> 0.000049</td>\n",
        "      <td> 0.000065</td>\n",
        "      <td> 0.000011</td>\n",
        "      <td> 0.000050</td>\n",
        "      <td> 0.000039</td>\n",
        "      <td> 0.000036</td>\n",
        "      <td> 0.000068</td>\n",
        "      <td> 0.000095</td>\n",
        "      <td>...</td>\n",
        "    </tr>\n",
        "    <tr>\n",
        "      <th>558</th>\n",
        "      <td> 0.000336</td>\n",
        "      <td> 0.000152</td>\n",
        "      <td> 0.000044</td>\n",
        "      <td> 0.000025</td>\n",
        "      <td> 0.000188</td>\n",
        "      <td> 0.000107</td>\n",
        "      <td> 0.000138</td>\n",
        "      <td> 0.000093</td>\n",
        "      <td> 0.000138</td>\n",
        "      <td> 0.000083</td>\n",
        "      <td> 0.000029</td>\n",
        "      <td> 0.000051</td>\n",
        "      <td> 0.000066</td>\n",
        "      <td> 0.000069</td>\n",
        "      <td> 0.000033</td>\n",
        "      <td> 0.000021</td>\n",
        "      <td> 0.000033</td>\n",
        "      <td> 0.000029</td>\n",
        "      <td> 0.000105</td>\n",
        "      <td> 0.000114</td>\n",
        "      <td>...</td>\n",
        "    </tr>\n",
        "    <tr>\n",
        "      <th>562</th>\n",
        "      <td> 0.000299</td>\n",
        "      <td> 0.000217</td>\n",
        "      <td> 0.000056</td>\n",
        "      <td> 0.000021</td>\n",
        "      <td> 0.000063</td>\n",
        "      <td> 0.000162</td>\n",
        "      <td> 0.000104</td>\n",
        "      <td> 0.000076</td>\n",
        "      <td> 0.000218</td>\n",
        "      <td> 0.000072</td>\n",
        "      <td> 0.000039</td>\n",
        "      <td> 0.000038</td>\n",
        "      <td> 0.000067</td>\n",
        "      <td> 0.000092</td>\n",
        "      <td> 0.000040</td>\n",
        "      <td> 0.000023</td>\n",
        "      <td> 0.000074</td>\n",
        "      <td> 0.000027</td>\n",
        "      <td> 0.000047</td>\n",
        "      <td> 0.000106</td>\n",
        "      <td>...</td>\n",
        "    </tr>\n",
        "    <tr>\n",
        "      <th>566</th>\n",
        "      <td> 0.000238</td>\n",
        "      <td> 0.000226</td>\n",
        "      <td> 0.000058</td>\n",
        "      <td> 0.000031</td>\n",
        "      <td> 0.000000</td>\n",
        "      <td> 0.000174</td>\n",
        "      <td> 0.000090</td>\n",
        "      <td> 0.000048</td>\n",
        "      <td> 0.000224</td>\n",
        "      <td> 0.000061</td>\n",
        "      <td> 0.000029</td>\n",
        "      <td> 0.000046</td>\n",
        "      <td> 0.000069</td>\n",
        "      <td> 0.000097</td>\n",
        "      <td> 0.000002</td>\n",
        "      <td> 0.000007</td>\n",
        "      <td> 0.000047</td>\n",
        "      <td> 0.000020</td>\n",
        "      <td> 0.000077</td>\n",
        "      <td> 0.000072</td>\n",
        "      <td>...</td>\n",
        "    </tr>\n",
        "  </tbody>\n",
        "</table>\n",
        "<p>5 rows \u00d7 62 columns</p>\n",
        "</div>"
       ],
       "metadata": {},
       "output_type": "pyout",
       "prompt_number": 14,
       "text": [
        "             100-41-4  103-65-1  106-42-3  106-97-8  1067-08-9  1068-87-7  \\\n",
        "Wave number                                                                 \n",
        "550          0.000300  0.000106  0.000035  0.000040   0.000252   0.000484   \n",
        "554          0.000328  0.000141  0.000024  0.000043   0.000212   0.000265   \n",
        "558          0.000336  0.000152  0.000044  0.000025   0.000188   0.000107   \n",
        "562          0.000299  0.000217  0.000056  0.000021   0.000063   0.000162   \n",
        "566          0.000238  0.000226  0.000058  0.000031   0.000000   0.000174   \n",
        "\n",
        "             1069-53-0  107-83-5  1070-87-7  1072-05-5  1072-16-8  108-08-7  \\\n",
        "Wave number                                                                   \n",
        "550           0.000189  0.000130   0.000091   0.000157   0.000035  0.000021   \n",
        "554           0.000158  0.000104   0.000091   0.000119   0.000023  0.000051   \n",
        "558           0.000138  0.000093   0.000138   0.000083   0.000029  0.000051   \n",
        "562           0.000104  0.000076   0.000218   0.000072   0.000039  0.000038   \n",
        "566           0.000090  0.000048   0.000224   0.000061   0.000029  0.000046   \n",
        "\n",
        "             108-38-3  108-88-3  109-66-0  109-67-1  110-54-3  111-65-9  \\\n",
        "Wave number                                                               \n",
        "550          0.000043  0.000078  0.000007  0.000101  0.000024  0.000039   \n",
        "554          0.000049  0.000065  0.000011  0.000050  0.000039  0.000036   \n",
        "558          0.000066  0.000069  0.000033  0.000021  0.000033  0.000029   \n",
        "562          0.000067  0.000092  0.000040  0.000023  0.000074  0.000027   \n",
        "566          0.000069  0.000097  0.000002  0.000007  0.000047  0.000020   \n",
        "\n",
        "             111-84-2  124-18-5      \n",
        "Wave number                          \n",
        "550          0.000096  0.000119 ...  \n",
        "554          0.000068  0.000095 ...  \n",
        "558          0.000105  0.000114 ...  \n",
        "562          0.000047  0.000106 ...  \n",
        "566          0.000077  0.000072 ...  \n",
        "\n",
        "[5 rows x 62 columns]"
       ]
      }
     ],
     "prompt_number": 14
    },
    {
     "cell_type": "markdown",
     "metadata": {},
     "source": [
      "PCA transformation on the Zero Mean values - 10 component vector"
     ]
    },
    {
     "cell_type": "code",
     "collapsed": false,
     "input": [
      "means = nf.sub(nf.mean(1), axis=0)\n",
      "means.plot(legend=False)\n",
      "gca().invert_xaxis()"
     ],
     "language": "python",
     "metadata": {},
     "outputs": [
      {
       "metadata": {},
       "output_type": "display_data",
       "png": "[encoded data removed]",
       "text": [
        "<matplotlib.figure.Figure at 0x8979490>"
       ]
      }
     ],
     "prompt_number": 15
    },
    {
     "cell_type": "code",
     "collapsed": false,
     "input": [],
     "language": "python",
     "metadata": {},
     "outputs": [],
     "prompt_number": 15
    },
    {
     "cell_type": "code",
     "collapsed": false,
     "input": [
      "from sklearn.decomposition import PCA\n",
      "\n",
      "#pca = PCA(n_components=10)\n",
      "#X_PCA = pca.fit(nf.transpose()).transform(nf.transpose())\n",
      "#print \"Variance Ratio (10 components): \" \n",
      "#print (pca.explained_variance_ratio_)"
     ],
     "language": "python",
     "metadata": {},
     "outputs": [],
     "prompt_number": 16
    },
    {
     "cell_type": "code",
     "collapsed": false,
     "input": [
      "pca = PCA(n_components=8)\n",
      "X_PCA = pca.fit(means.transpose()).transform(means.transpose())\n",
      "print \"Variance Ratio (8 Components): \"\n",
      "print (pca.explained_variance_ratio_)"
     ],
     "language": "python",
     "metadata": {},
     "outputs": [
      {
       "output_type": "stream",
       "stream": "stdout",
       "text": [
        "Variance Ratio (8 Components): \n",
        "[ 0.5697124   0.15590978  0.08110341  0.04320585  0.03209701  0.0222239\n",
        "  0.0182982   0.01578983]"
       ]
      },
      {
       "output_type": "stream",
       "stream": "stdout",
       "text": [
        "\n"
       ]
      }
     ],
     "prompt_number": 17
    },
    {
     "cell_type": "markdown",
     "metadata": {},
     "source": [
      "SCREE PLOT: Determine how many Princpal components are needed"
     ]
    },
    {
     "cell_type": "code",
     "collapsed": false,
     "input": [
      "plot(numpy.arange(len(pca.explained_variance_ratio_)), pca.explained_variance_ratio_)\n",
      "xlabel('Num of Components', size=15)\n",
      "ylabel('Variance Ratio', size =15)\n",
      "title('Scree Plot', size=20)\n",
      "plt.savefig('Scree.JPEG')"
     ],
     "language": "python",
     "metadata": {},
     "outputs": [
      {
       "metadata": {},
       "output_type": "display_data",
       "png": "[encoded data removed]",
       "text": [
        "<matplotlib.figure.Figure at 0x90a59d0>"
       ]
      }
     ],
     "prompt_number": 18
    },
    {
     "cell_type": "code",
     "collapsed": false,
     "input": [
      "\n",
      "old = X_PCA[11]\n",
      "old_pl = pca.inverse_transform(old)"
     ],
     "language": "python",
     "metadata": {},
     "outputs": [],
     "prompt_number": 19
    },
    {
     "cell_type": "code",
     "collapsed": false,
     "input": [
      "figure()\n",
      "gca().invert_xaxis()\n",
      "plot(nf.index, old_pl)\n",
      "title('Transformed')\n",
      "\n",
      "figure()\n",
      "gca().invert_xaxis()\n",
      "plot(nf.index, nf['108-08-7'])\n",
      "title(\"Real\")"
     ],
     "language": "python",
     "metadata": {},
     "outputs": [
      {
       "metadata": {},
       "output_type": "pyout",
       "prompt_number": 20,
       "text": [
        "<matplotlib.text.Text at 0x7a59b70>"
       ]
      },
      {
       "metadata": {},
       "output_type": "display_data",
       "png": "[encoded data removed]",
       "text": [
        "<matplotlib.figure.Figure at 0x8fdddb0>"
       ]
      },
      {
       "metadata": {},
       "output_type": "display_data",
       "png": "[encoded data removed]",
       "text": [
        "<matplotlib.figure.Figure at 0x916ec70>"
       ]
      }
     ],
     "prompt_number": 20
    },
    {
     "cell_type": "code",
     "collapsed": false,
     "input": [
      "pca_d = {}\n",
      "count = 0\n",
      "for k in spectra:\n",
      "    if count < 62:\n",
      "        pca_d[k['CAS REGISTRY NO']] =  X_PCA[count]\n",
      "        count = count + 1\n",
      "    else:\n",
      "        pca_d[k['CAS REGISTRY NO']] = X_PCA[61]\n",
      "        \n",
      "        \n",
      "pca_df = pandas.DataFrame(pca_d)"
     ],
     "language": "python",
     "metadata": {},
     "outputs": [],
     "prompt_number": 21
    },
    {
     "cell_type": "heading",
     "level": 4,
     "metadata": {},
     "source": [
      "PCA Data Frame: Each compound has been reduced to 10 coefficients"
     ]
    },
    {
     "cell_type": "code",
     "collapsed": false,
     "input": [
      "pca_df"
     ],
     "language": "python",
     "metadata": {},
     "outputs": [
      {
       "html": [
        "<div style=\"max-height:1000px;max-width:1500px;overflow:auto;\">\n",
        "<table border=\"1\" class=\"dataframe\">\n",
        "  <thead>\n",
        "    <tr style=\"text-align: right;\">\n",
        "      <th></th>\n",
        "      <th>100-41-4</th>\n",
        "      <th>103-65-1</th>\n",
        "      <th>106-42-3</th>\n",
        "      <th>106-97-8</th>\n",
        "      <th>1067-08-9</th>\n",
        "      <th>1068-87-7</th>\n",
        "      <th>1069-53-0</th>\n",
        "      <th>107-83-5</th>\n",
        "      <th>1070-87-7</th>\n",
        "      <th>1072-05-5</th>\n",
        "      <th>1072-16-8</th>\n",
        "      <th>108-08-7</th>\n",
        "      <th>108-38-3</th>\n",
        "      <th>108-88-3</th>\n",
        "      <th>109-66-0</th>\n",
        "      <th>109-67-1</th>\n",
        "      <th>110-54-3</th>\n",
        "      <th>111-65-9</th>\n",
        "      <th>111-84-2</th>\n",
        "      <th>124-18-5</th>\n",
        "      <th></th>\n",
        "    </tr>\n",
        "  </thead>\n",
        "  <tbody>\n",
        "    <tr>\n",
        "      <th>0</th>\n",
        "      <td>-0.014576</td>\n",
        "      <td>-0.011250</td>\n",
        "      <td>-0.016233</td>\n",
        "      <td> 0.006879</td>\n",
        "      <td>-0.005366</td>\n",
        "      <td>-0.008557</td>\n",
        "      <td> 0.006728</td>\n",
        "      <td> 0.006921</td>\n",
        "      <td>-0.000085</td>\n",
        "      <td> 0.004232</td>\n",
        "      <td> 0.004794</td>\n",
        "      <td> 0.008585</td>\n",
        "      <td>-0.017703</td>\n",
        "      <td>-0.023138</td>\n",
        "      <td> 0.006337</td>\n",
        "      <td>-0.005477</td>\n",
        "      <td> 0.006845</td>\n",
        "      <td> 0.006851</td>\n",
        "      <td> 0.003855</td>\n",
        "      <td> 0.004234</td>\n",
        "      <td>...</td>\n",
        "    </tr>\n",
        "    <tr>\n",
        "      <th>1</th>\n",
        "      <td>-0.001265</td>\n",
        "      <td> 0.001653</td>\n",
        "      <td> 0.004756</td>\n",
        "      <td>-0.001187</td>\n",
        "      <td>-0.001130</td>\n",
        "      <td>-0.002773</td>\n",
        "      <td>-0.002369</td>\n",
        "      <td> 0.000685</td>\n",
        "      <td>-0.003456</td>\n",
        "      <td> 0.002563</td>\n",
        "      <td> 0.004890</td>\n",
        "      <td>-0.003447</td>\n",
        "      <td> 0.004526</td>\n",
        "      <td> 0.002756</td>\n",
        "      <td> 0.001719</td>\n",
        "      <td> 0.000719</td>\n",
        "      <td> 0.004782</td>\n",
        "      <td> 0.009831</td>\n",
        "      <td> 0.010937</td>\n",
        "      <td> 0.012904</td>\n",
        "      <td>...</td>\n",
        "    </tr>\n",
        "    <tr>\n",
        "      <th>2</th>\n",
        "      <td> 0.005110</td>\n",
        "      <td> 0.003567</td>\n",
        "      <td>-0.001339</td>\n",
        "      <td>-0.000234</td>\n",
        "      <td>-0.001444</td>\n",
        "      <td>-0.001424</td>\n",
        "      <td> 0.002124</td>\n",
        "      <td> 0.001099</td>\n",
        "      <td> 0.000760</td>\n",
        "      <td> 0.000848</td>\n",
        "      <td> 0.000232</td>\n",
        "      <td> 0.003235</td>\n",
        "      <td> 0.001415</td>\n",
        "      <td> 0.006246</td>\n",
        "      <td>-0.000218</td>\n",
        "      <td>-0.001693</td>\n",
        "      <td>-0.000613</td>\n",
        "      <td>-0.001820</td>\n",
        "      <td>-0.002620</td>\n",
        "      <td>-0.003132</td>\n",
        "      <td>...</td>\n",
        "    </tr>\n",
        "    <tr>\n",
        "      <th>3</th>\n",
        "      <td>-0.003651</td>\n",
        "      <td>-0.002192</td>\n",
        "      <td>-0.006094</td>\n",
        "      <td>-0.003812</td>\n",
        "      <td> 0.001030</td>\n",
        "      <td> 0.003408</td>\n",
        "      <td> 0.001816</td>\n",
        "      <td> 0.000126</td>\n",
        "      <td> 0.002790</td>\n",
        "      <td> 0.003069</td>\n",
        "      <td> 0.002581</td>\n",
        "      <td> 0.002790</td>\n",
        "      <td>-0.004083</td>\n",
        "      <td>-0.003482</td>\n",
        "      <td>-0.002126</td>\n",
        "      <td>-0.000969</td>\n",
        "      <td>-0.001605</td>\n",
        "      <td>-0.001271</td>\n",
        "      <td>-0.000519</td>\n",
        "      <td>-0.000691</td>\n",
        "      <td>...</td>\n",
        "    </tr>\n",
        "    <tr>\n",
        "      <th>4</th>\n",
        "      <td> 0.001412</td>\n",
        "      <td> 0.000896</td>\n",
        "      <td> 0.005352</td>\n",
        "      <td>-0.000910</td>\n",
        "      <td>-0.000063</td>\n",
        "      <td> 0.001587</td>\n",
        "      <td> 0.001228</td>\n",
        "      <td> 0.000456</td>\n",
        "      <td> 0.002580</td>\n",
        "      <td> 0.001338</td>\n",
        "      <td> 0.000710</td>\n",
        "      <td> 0.001227</td>\n",
        "      <td> 0.004391</td>\n",
        "      <td> 0.004679</td>\n",
        "      <td>-0.001046</td>\n",
        "      <td>-0.000059</td>\n",
        "      <td>-0.001527</td>\n",
        "      <td>-0.002418</td>\n",
        "      <td>-0.002494</td>\n",
        "      <td>-0.003015</td>\n",
        "      <td>...</td>\n",
        "    </tr>\n",
        "    <tr>\n",
        "      <th>5</th>\n",
        "      <td>-0.003504</td>\n",
        "      <td>-0.004372</td>\n",
        "      <td> 0.007129</td>\n",
        "      <td> 0.000613</td>\n",
        "      <td>-0.000289</td>\n",
        "      <td>-0.000088</td>\n",
        "      <td> 0.000532</td>\n",
        "      <td> 0.000548</td>\n",
        "      <td> 0.001459</td>\n",
        "      <td> 0.000462</td>\n",
        "      <td> 0.000350</td>\n",
        "      <td>-0.000060</td>\n",
        "      <td> 0.003049</td>\n",
        "      <td>-0.007300</td>\n",
        "      <td>-0.000109</td>\n",
        "      <td> 0.001536</td>\n",
        "      <td>-0.000597</td>\n",
        "      <td>-0.001242</td>\n",
        "      <td>-0.001518</td>\n",
        "      <td>-0.001718</td>\n",
        "      <td>...</td>\n",
        "    </tr>\n",
        "    <tr>\n",
        "      <th>6</th>\n",
        "      <td> 0.000358</td>\n",
        "      <td> 0.000266</td>\n",
        "      <td> 0.000568</td>\n",
        "      <td> 0.000876</td>\n",
        "      <td>-0.002457</td>\n",
        "      <td>-0.002048</td>\n",
        "      <td>-0.000331</td>\n",
        "      <td> 0.000473</td>\n",
        "      <td> 0.001698</td>\n",
        "      <td> 0.000505</td>\n",
        "      <td> 0.000637</td>\n",
        "      <td>-0.001355</td>\n",
        "      <td>-0.000049</td>\n",
        "      <td> 0.002356</td>\n",
        "      <td> 0.000542</td>\n",
        "      <td>-0.001260</td>\n",
        "      <td> 0.000331</td>\n",
        "      <td> 0.000613</td>\n",
        "      <td> 0.000348</td>\n",
        "      <td> 0.000594</td>\n",
        "      <td>...</td>\n",
        "    </tr>\n",
        "    <tr>\n",
        "      <th>7</th>\n",
        "      <td>-0.000270</td>\n",
        "      <td> 0.000176</td>\n",
        "      <td>-0.002582</td>\n",
        "      <td> 0.001981</td>\n",
        "      <td> 0.000612</td>\n",
        "      <td> 0.001466</td>\n",
        "      <td>-0.001482</td>\n",
        "      <td>-0.000015</td>\n",
        "      <td> 0.001908</td>\n",
        "      <td>-0.000689</td>\n",
        "      <td>-0.000694</td>\n",
        "      <td>-0.002484</td>\n",
        "      <td>-0.001448</td>\n",
        "      <td>-0.000843</td>\n",
        "      <td> 0.001233</td>\n",
        "      <td> 0.004116</td>\n",
        "      <td> 0.000149</td>\n",
        "      <td>-0.000480</td>\n",
        "      <td>-0.000111</td>\n",
        "      <td>-0.000252</td>\n",
        "      <td>...</td>\n",
        "    </tr>\n",
        "  </tbody>\n",
        "</table>\n",
        "<p>8 rows \u00d7 62 columns</p>\n",
        "</div>"
       ],
       "metadata": {},
       "output_type": "pyout",
       "prompt_number": 22,
       "text": [
        "   100-41-4  103-65-1  106-42-3  106-97-8  1067-08-9  1068-87-7  1069-53-0  \\\n",
        "0 -0.014576 -0.011250 -0.016233  0.006879  -0.005366  -0.008557   0.006728   \n",
        "1 -0.001265  0.001653  0.004756 -0.001187  -0.001130  -0.002773  -0.002369   \n",
        "2  0.005110  0.003567 -0.001339 -0.000234  -0.001444  -0.001424   0.002124   \n",
        "3 -0.003651 -0.002192 -0.006094 -0.003812   0.001030   0.003408   0.001816   \n",
        "4  0.001412  0.000896  0.005352 -0.000910  -0.000063   0.001587   0.001228   \n",
        "5 -0.003504 -0.004372  0.007129  0.000613  -0.000289  -0.000088   0.000532   \n",
        "6  0.000358  0.000266  0.000568  0.000876  -0.002457  -0.002048  -0.000331   \n",
        "7 -0.000270  0.000176 -0.002582  0.001981   0.000612   0.001466  -0.001482   \n",
        "\n",
        "   107-83-5  1070-87-7  1072-05-5  1072-16-8  108-08-7  108-38-3  108-88-3  \\\n",
        "0  0.006921  -0.000085   0.004232   0.004794  0.008585 -0.017703 -0.023138   \n",
        "1  0.000685  -0.003456   0.002563   0.004890 -0.003447  0.004526  0.002756   \n",
        "2  0.001099   0.000760   0.000848   0.000232  0.003235  0.001415  0.006246   \n",
        "3  0.000126   0.002790   0.003069   0.002581  0.002790 -0.004083 -0.003482   \n",
        "4  0.000456   0.002580   0.001338   0.000710  0.001227  0.004391  0.004679   \n",
        "5  0.000548   0.001459   0.000462   0.000350 -0.000060  0.003049 -0.007300   \n",
        "6  0.000473   0.001698   0.000505   0.000637 -0.001355 -0.000049  0.002356   \n",
        "7 -0.000015   0.001908  -0.000689  -0.000694 -0.002484 -0.001448 -0.000843   \n",
        "\n",
        "   109-66-0  109-67-1  110-54-3  111-65-9  111-84-2  124-18-5      \n",
        "0  0.006337 -0.005477  0.006845  0.006851  0.003855  0.004234 ...  \n",
        "1  0.001719  0.000719  0.004782  0.009831  0.010937  0.012904 ...  \n",
        "2 -0.000218 -0.001693 -0.000613 -0.001820 -0.002620 -0.003132 ...  \n",
        "3 -0.002126 -0.000969 -0.001605 -0.001271 -0.000519 -0.000691 ...  \n",
        "4 -0.001046 -0.000059 -0.001527 -0.002418 -0.002494 -0.003015 ...  \n",
        "5 -0.000109  0.001536 -0.000597 -0.001242 -0.001518 -0.001718 ...  \n",
        "6  0.000542 -0.001260  0.000331  0.000613  0.000348  0.000594 ...  \n",
        "7  0.001233  0.004116  0.000149 -0.000480 -0.000111 -0.000252 ...  \n",
        "\n",
        "[8 rows x 62 columns]"
       ]
      }
     ],
     "prompt_number": 22
    },
    {
     "cell_type": "markdown",
     "metadata": {},
     "source": [
      "Feed a random spectrum and determine its PCA vector"
     ]
    },
    {
     "cell_type": "code",
     "collapsed": false,
     "input": [
      "a = spectra[0]\n",
      "b = spectra[1]\n",
      "\n",
      "randSpec = (df[a['CAS REGISTRY NO']] + df[b['CAS REGISTRY NO']])/2.0\n",
      "rand_pca = pca.fit_transform(randSpec)"
     ],
     "language": "python",
     "metadata": {},
     "outputs": [],
     "prompt_number": 23
    },
    {
     "cell_type": "code",
     "collapsed": false,
     "input": [
      "print X_PCA[0]\n",
      "print X_PCA[1]\n",
      "print rand_pca\n",
      "\n",
      "randSpec_new = pca.inverse_transform(rand_pca)"
     ],
     "language": "python",
     "metadata": {},
     "outputs": [
      {
       "output_type": "stream",
       "stream": "stdout",
       "text": [
        "[-0.01457601 -0.00126477  0.00510997 -0.00365073  0.00141212 -0.00350356\n",
        "  0.00035796 -0.00026999]\n",
        "[-0.01124962  0.00165335  0.00356657 -0.00219231  0.00089644 -0.0043723\n",
        "  0.00026559  0.0001757 ]"
       ]
      },
      {
       "output_type": "stream",
       "stream": "stdout",
       "text": [
        "\n",
        "[[ 0.]]\n"
       ]
      }
     ],
     "prompt_number": 24
    },
    {
     "cell_type": "code",
     "collapsed": false,
     "input": [
      "figure()\n",
      "plot(df.index, randSpec_new[0])\n",
      "title('PCA Inverse')\n",
      "\n",
      "figure()\n",
      "plot(df.index, randSpec)\n",
      "title('Original Random Spectrum')"
     ],
     "language": "python",
     "metadata": {},
     "outputs": [
      {
       "metadata": {},
       "output_type": "pyout",
       "prompt_number": 25,
       "text": [
        "<matplotlib.text.Text at 0x9007fb0>"
       ]
      },
      {
       "metadata": {},
       "output_type": "display_data",
       "png": "[encoded data removed]",
       "text": [
        "<matplotlib.figure.Figure at 0x90a5d30>"
       ]
      },
      {
       "metadata": {},
       "output_type": "display_data",
       "png": "[encoded data removed]",
       "text": [
        "<matplotlib.figure.Figure at 0x9095bf0>"
       ]
      }
     ],
     "prompt_number": 25
    },
    {
     "cell_type": "heading",
     "level": 4,
     "metadata": {},
     "source": [
      ">>>>  Therefore, it is possible to fit random spectra and find their PCA inverse"
     ]
    },
    {
     "cell_type": "markdown",
     "metadata": {},
     "source": [
      "Mean of the Octane Numbers: Using Only RON numbers...flatCAS in datadir is the updated RON and MON numbers"
     ]
    },
    {
     "cell_type": "code",
     "collapsed": false,
     "input": [
      "ON_df = pandas.DataFrame()\n",
      "ON = ON_df.from_csv(os.path.join(datadir, 'flatCAS.csv'))\n",
      "ON.head()"
     ],
     "language": "python",
     "metadata": {},
     "outputs": [
      {
       "html": [
        "<div style=\"max-height:1000px;max-width:1500px;overflow:auto;\">\n",
        "<table border=\"1\" class=\"dataframe\">\n",
        "  <thead>\n",
        "    <tr style=\"text-align: right;\">\n",
        "      <th></th>\n",
        "      <th>RON</th>\n",
        "      <th>MON</th>\n",
        "    </tr>\n",
        "    <tr>\n",
        "      <th>CAS</th>\n",
        "      <th></th>\n",
        "      <th></th>\n",
        "    </tr>\n",
        "  </thead>\n",
        "  <tbody>\n",
        "    <tr>\n",
        "      <th>74-98-6</th>\n",
        "      <td> 112.0</td>\n",
        "      <td>  0.0</td>\n",
        "    </tr>\n",
        "    <tr>\n",
        "      <th>106-97-8</th>\n",
        "      <td>  93.6</td>\n",
        "      <td> 90.1</td>\n",
        "    </tr>\n",
        "    <tr>\n",
        "      <th>75-28-5</th>\n",
        "      <td> 102.0</td>\n",
        "      <td> 97.6</td>\n",
        "    </tr>\n",
        "    <tr>\n",
        "      <th>109-66-0</th>\n",
        "      <td>  61.7</td>\n",
        "      <td> 61.9</td>\n",
        "    </tr>\n",
        "    <tr>\n",
        "      <th>78-78-4</th>\n",
        "      <td>  92.3</td>\n",
        "      <td> 90.3</td>\n",
        "    </tr>\n",
        "  </tbody>\n",
        "</table>\n",
        "<p>5 rows \u00d7 2 columns</p>\n",
        "</div>"
       ],
       "metadata": {},
       "output_type": "pyout",
       "prompt_number": 26,
       "text": [
        "            RON   MON\n",
        "CAS                  \n",
        "74-98-6   112.0   0.0\n",
        "106-97-8   93.6  90.1\n",
        "75-28-5   102.0  97.6\n",
        "109-66-0   61.7  61.9\n",
        "78-78-4    92.3  90.3\n",
        "\n",
        "[5 rows x 2 columns]"
       ]
      }
     ],
     "prompt_number": 26
    },
    {
     "cell_type": "code",
     "collapsed": false,
     "input": [
      "ON_mean = ON['RON'].mean(1)\n",
      "ON_bar = ON - ON_mean\n",
      "ON_bar.head()"
     ],
     "language": "python",
     "metadata": {},
     "outputs": [
      {
       "html": [
        "<div style=\"max-height:1000px;max-width:1500px;overflow:auto;\">\n",
        "<table border=\"1\" class=\"dataframe\">\n",
        "  <thead>\n",
        "    <tr style=\"text-align: right;\">\n",
        "      <th></th>\n",
        "      <th>RON</th>\n",
        "      <th>MON</th>\n",
        "    </tr>\n",
        "    <tr>\n",
        "      <th>CAS</th>\n",
        "      <th></th>\n",
        "      <th></th>\n",
        "    </tr>\n",
        "  </thead>\n",
        "  <tbody>\n",
        "    <tr>\n",
        "      <th>74-98-6</th>\n",
        "      <td> 33.644262</td>\n",
        "      <td>-78.355738</td>\n",
        "    </tr>\n",
        "    <tr>\n",
        "      <th>106-97-8</th>\n",
        "      <td> 15.244262</td>\n",
        "      <td> 11.744262</td>\n",
        "    </tr>\n",
        "    <tr>\n",
        "      <th>75-28-5</th>\n",
        "      <td> 23.644262</td>\n",
        "      <td> 19.244262</td>\n",
        "    </tr>\n",
        "    <tr>\n",
        "      <th>109-66-0</th>\n",
        "      <td>-16.655738</td>\n",
        "      <td>-16.455738</td>\n",
        "    </tr>\n",
        "    <tr>\n",
        "      <th>78-78-4</th>\n",
        "      <td> 13.944262</td>\n",
        "      <td> 11.944262</td>\n",
        "    </tr>\n",
        "  </tbody>\n",
        "</table>\n",
        "<p>5 rows \u00d7 2 columns</p>\n",
        "</div>"
       ],
       "metadata": {},
       "output_type": "pyout",
       "prompt_number": 27,
       "text": [
        "                RON        MON\n",
        "CAS                           \n",
        "74-98-6   33.644262 -78.355738\n",
        "106-97-8  15.244262  11.744262\n",
        "75-28-5   23.644262  19.244262\n",
        "109-66-0 -16.655738 -16.455738\n",
        "78-78-4   13.944262  11.944262\n",
        "\n",
        "[5 rows x 2 columns]"
       ]
      }
     ],
     "prompt_number": 27
    },
    {
     "cell_type": "heading",
     "level": 4,
     "metadata": {},
     "source": [
      "FIRST LINE OF ACTION: Plot 'C1' against mean removed RON"
     ]
    },
    {
     "cell_type": "code",
     "collapsed": false,
     "input": [
      "x = [];\n",
      "for CAS in ON_bar.transpose():\n",
      "    #So as to get the same CAS order as the ON data frame \n",
      "    x.append(pca_df[CAS][0])\n",
      "\n",
      "plt.figure(figsize=(8,8))    \n",
      "scatter(x, ON_bar['RON'])\n",
      "xlabel('C1', size=15)\n",
      "ylabel('RON_bar', size=15)\n",
      "title('C1 vs RON', size=20)\n",
      "plt.savefig('C1vsRON.jpeg')"
     ],
     "language": "python",
     "metadata": {},
     "outputs": [
      {
       "metadata": {},
       "output_type": "display_data",
       "png": "[encoded data removed]",
       "text": [
        "<matplotlib.figure.Figure at 0x916e250>"
       ]
      }
     ],
     "prompt_number": 28
    },
    {
     "cell_type": "heading",
     "level": 4,
     "metadata": {},
     "source": [
      "SECOND LINE OF ACTION: C1 vs C2 with colorMap"
     ]
    },
    {
     "cell_type": "code",
     "collapsed": false,
     "input": [
      "c1 = [];\n",
      "c2 = [];\n",
      "tags = [ON_bar['RON'][i] for i in arange(len(ON_bar))];\n",
      "\n",
      "for CAS in ON_bar.transpose():\n",
      "    #So as to get the same CAS order as the ON data frame \n",
      "    c1.append(pca_df[CAS][1])\n",
      "    c2.append(pca_df[CAS][2])  "
     ],
     "language": "python",
     "metadata": {},
     "outputs": [],
     "prompt_number": 34
    },
    {
     "cell_type": "code",
     "collapsed": false,
     "input": [
      "#change the color map here...which color scale will be most desirable\n",
      "colmap = plt.cm.winter \n",
      "    \n",
      "fig, ax = plt.subplots(1,1, figsize=(8,8))\n",
      "scatter(c1, c2, c=tags, s=100, cmap=colmap)\n",
      "\n",
      "ax2 = fig.add_axes([1.0, 0.1, 0.06, 0.8])\n",
      "cb = mpl.colorbar.ColorbarBase(ax2, cmap=colmap)\n",
      "\n",
      "ax.set_xlabel('C2', size=15)\n",
      "ax.set_ylabel('C3', size=15)\n",
      "ax.set_title('C2 vs C3, colorMap', size=20)\n",
      "\n",
      "ax2.set_ylabel('Low RON to high RON %', size=15)\n",
      "\n",
      "plt.savefig('C2vsC3map.jpeg')"
     ],
     "language": "python",
     "metadata": {},
     "outputs": [
      {
       "metadata": {},
       "output_type": "display_data",
       "png": "[encoded data removed]",
       "text": [
        "<matplotlib.figure.Figure at 0x8ffc670>"
       ]
      }
     ],
     "prompt_number": 36
    },
    {
     "cell_type": "code",
     "collapsed": false,
     "input": [],
     "language": "python",
     "metadata": {},
     "outputs": []
    }
   ],
   "metadata": {}
  }
 ]
}