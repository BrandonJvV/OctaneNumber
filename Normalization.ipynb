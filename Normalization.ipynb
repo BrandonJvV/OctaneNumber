{
 "metadata": {
  "name": ""
 },
 "nbformat": 3,
 "nbformat_minor": 0,
 "worksheets": [
  {
   "cells": [
    {
     "cell_type": "code",
     "collapsed": false,
     "input": [
      "%pylab inline"
     ],
     "language": "python",
     "metadata": {},
     "outputs": [
      {
       "output_type": "stream",
       "stream": "stdout",
       "text": [
        "Populating the interactive namespace from numpy and matplotlib\n"
       ]
      }
     ],
     "prompt_number": 1
    },
    {
     "cell_type": "code",
     "collapsed": false,
     "input": [
      "import pandas\n",
      "import jcamp\n",
      "import os.path\n",
      "import glob"
     ],
     "language": "python",
     "metadata": {},
     "outputs": [],
     "prompt_number": 19
    },
    {
     "cell_type": "markdown",
     "metadata": {},
     "source": [
      "Read data directory. expanduser is used to expand the ~ symbol in the data."
     ]
    },
    {
     "cell_type": "code",
     "collapsed": false,
     "input": [
      "import json\n",
      "config = json.load(open('config.json'))\n",
      "datadir = os.path.expanduser(config['datadir'])"
     ],
     "language": "python",
     "metadata": {},
     "outputs": [],
     "prompt_number": 21
    },
    {
     "cell_type": "code",
     "collapsed": false,
     "input": [
      "spectra = []\n",
      "for filename in glob.glob(os.path.join(datadir, 'IR Spectra', '*.jdx')):\n",
      "    d = jcamp.read_jcamp(filename)\n",
      "    spectra.append(d)"
     ],
     "language": "python",
     "metadata": {},
     "outputs": [],
     "prompt_number": 22
    },
    {
     "cell_type": "markdown",
     "metadata": {},
     "source": [
      "Where do we have data?"
     ]
    },
    {
     "cell_type": "code",
     "collapsed": false,
     "input": [
      "ranges = []\n",
      "for d in spectra:\n",
      "    ranges += [[d['FIRSTX'], +1], [d['LASTX'], -1]]\n",
      "ranges.sort()\n",
      "ranges = array(ranges)\n",
      "plot(ranges[:, 0], cumsum(ranges[:, 1])/len(spectra))\n",
      "xlabel('Wavenumber')\n",
      "ylabel('Fraction of spectra with data here')"
     ],
     "language": "python",
     "metadata": {},
     "outputs": [
      {
       "metadata": {},
       "output_type": "pyout",
       "prompt_number": 23,
       "text": [
        "<matplotlib.text.Text at 0x10c70bcd0>"
       ]
      },
      {
       "metadata": {},
       "output_type": "display_data",
       "png": "[encoded data removed]",
       "text": [
        "<matplotlib.figure.Figure at 0x10c71fb10>"
       ]
      }
     ],
     "prompt_number": 23
    },
    {
     "cell_type": "markdown",
     "metadata": {},
     "source": [
      "Figure out what the common wavenumber range is between all the spectra"
     ]
    },
    {
     "cell_type": "code",
     "collapsed": false,
     "input": [
      "starting_wn = max(d['FIRSTX'] for d in spectra)\n",
      "ending_wn = min(d['LASTX'] for d in spectra)\n",
      "print \"Wavenumbers between\", starting_wn, \"and\", ending_wn"
     ],
     "language": "python",
     "metadata": {},
     "outputs": [
      {
       "output_type": "stream",
       "stream": "stdout",
       "text": [
        "Wavenumbers between 550.0 and 3846.0\n"
       ]
      }
     ],
     "prompt_number": 24
    },
    {
     "cell_type": "code",
     "collapsed": false,
     "input": [
      "delta = 4"
     ],
     "language": "python",
     "metadata": {},
     "outputs": [],
     "prompt_number": 25
    },
    {
     "cell_type": "code",
     "collapsed": false,
     "input": [
      "common_numbers = arange(starting_wn, ending_wn+delta, delta)"
     ],
     "language": "python",
     "metadata": {},
     "outputs": [],
     "prompt_number": 26
    },
    {
     "cell_type": "markdown",
     "metadata": {},
     "source": [
      "Interpolate/resample to those values on the data"
     ]
    },
    {
     "cell_type": "code",
     "collapsed": false,
     "input": [
      "ss = {}\n",
      "for d in spectra:\n",
      "    s = pandas.Series(interp(common_numbers, d['XDATA'], d['YDATA']), index=common_numbers)\n",
      "    ss[d['CAS REGISTRY NO']] = s"
     ],
     "language": "python",
     "metadata": {},
     "outputs": [],
     "prompt_number": 27
    },
    {
     "cell_type": "markdown",
     "metadata": {},
     "source": [
      "Get these into a dataframe"
     ]
    },
    {
     "cell_type": "code",
     "collapsed": false,
     "input": [
      "df = pandas.DataFrame(ss)\n",
      "df.index.name = 'Wave number'"
     ],
     "language": "python",
     "metadata": {},
     "outputs": [],
     "prompt_number": 28
    },
    {
     "cell_type": "markdown",
     "metadata": {},
     "source": [
      "Write the dataframe to a CSV file"
     ]
    },
    {
     "cell_type": "code",
     "collapsed": false,
     "input": [
      "df.to_csv(os.path.join(datadir, 'absorbance_spectra.csv'))"
     ],
     "language": "python",
     "metadata": {},
     "outputs": [],
     "prompt_number": 31
    },
    {
     "cell_type": "heading",
     "level": 4,
     "metadata": {},
     "source": [
      "Normalise to sum of 1, create a new dataframe due to dimensional mismatch"
     ]
    },
    {
     "cell_type": "code",
     "collapsed": false,
     "input": [
      "areas = [trapz(df[i], array(df.index)) for i in df]\n",
      "nf = df/areas"
     ],
     "language": "python",
     "metadata": {},
     "outputs": [],
     "prompt_number": 32
    },
    {
     "cell_type": "markdown",
     "metadata": {},
     "source": [
      "Write to file named \"absorbance_spectra_unity\""
     ]
    },
    {
     "cell_type": "code",
     "collapsed": false,
     "input": [
      "nf.to_csv(os.path.join(datadir, 'absorbance_spectra_unity.csv'))"
     ],
     "language": "python",
     "metadata": {},
     "outputs": [],
     "prompt_number": 33
    },
    {
     "cell_type": "code",
     "collapsed": false,
     "input": [
      "nf.head()"
     ],
     "language": "python",
     "metadata": {},
     "outputs": [
      {
       "html": [
        "<div style=\"max-height:1000px;max-width:1500px;overflow:auto;\">\n",
        "<table border=\"1\" class=\"dataframe\">\n",
        "  <thead>\n",
        "    <tr style=\"text-align: right;\">\n",
        "      <th></th>\n",
        "      <th>100-41-4</th>\n",
        "      <th>103-65-1</th>\n",
        "      <th>106-42-3</th>\n",
        "      <th>106-97-8</th>\n",
        "      <th>1067-08-9</th>\n",
        "      <th>1068-87-7</th>\n",
        "      <th>1069-53-0</th>\n",
        "      <th>107-83-5</th>\n",
        "      <th>1070-87-7</th>\n",
        "      <th>1072-05-5</th>\n",
        "      <th>1072-16-8</th>\n",
        "      <th>108-08-7</th>\n",
        "      <th>108-38-3</th>\n",
        "      <th>108-88-3</th>\n",
        "      <th>109-66-0</th>\n",
        "      <th>109-67-1</th>\n",
        "      <th>110-54-3</th>\n",
        "      <th>111-65-9</th>\n",
        "      <th>111-84-2</th>\n",
        "      <th>124-18-5</th>\n",
        "      <th></th>\n",
        "    </tr>\n",
        "    <tr>\n",
        "      <th>Wave number</th>\n",
        "      <th></th>\n",
        "      <th></th>\n",
        "      <th></th>\n",
        "      <th></th>\n",
        "      <th></th>\n",
        "      <th></th>\n",
        "      <th></th>\n",
        "      <th></th>\n",
        "      <th></th>\n",
        "      <th></th>\n",
        "      <th></th>\n",
        "      <th></th>\n",
        "      <th></th>\n",
        "      <th></th>\n",
        "      <th></th>\n",
        "      <th></th>\n",
        "      <th></th>\n",
        "      <th></th>\n",
        "      <th></th>\n",
        "      <th></th>\n",
        "    </tr>\n",
        "  </thead>\n",
        "  <tbody>\n",
        "    <tr>\n",
        "      <th>550</th>\n",
        "      <td> 0.000300</td>\n",
        "      <td> 0.000106</td>\n",
        "      <td> 0.000035</td>\n",
        "      <td> 0.000040</td>\n",
        "      <td> 0.000252</td>\n",
        "      <td> 0.000484</td>\n",
        "      <td> 0.000189</td>\n",
        "      <td> 0.000130</td>\n",
        "      <td> 0.000091</td>\n",
        "      <td> 0.000157</td>\n",
        "      <td> 0.000035</td>\n",
        "      <td> 0.000021</td>\n",
        "      <td> 0.000043</td>\n",
        "      <td> 0.000078</td>\n",
        "      <td> 0.000007</td>\n",
        "      <td> 0.000101</td>\n",
        "      <td> 0.000024</td>\n",
        "      <td> 0.000039</td>\n",
        "      <td> 0.000096</td>\n",
        "      <td> 0.000119</td>\n",
        "      <td>...</td>\n",
        "    </tr>\n",
        "    <tr>\n",
        "      <th>554</th>\n",
        "      <td> 0.000328</td>\n",
        "      <td> 0.000141</td>\n",
        "      <td> 0.000024</td>\n",
        "      <td> 0.000043</td>\n",
        "      <td> 0.000212</td>\n",
        "      <td> 0.000265</td>\n",
        "      <td> 0.000158</td>\n",
        "      <td> 0.000104</td>\n",
        "      <td> 0.000091</td>\n",
        "      <td> 0.000119</td>\n",
        "      <td> 0.000023</td>\n",
        "      <td> 0.000051</td>\n",
        "      <td> 0.000049</td>\n",
        "      <td> 0.000065</td>\n",
        "      <td> 0.000011</td>\n",
        "      <td> 0.000050</td>\n",
        "      <td> 0.000039</td>\n",
        "      <td> 0.000036</td>\n",
        "      <td> 0.000068</td>\n",
        "      <td> 0.000095</td>\n",
        "      <td>...</td>\n",
        "    </tr>\n",
        "    <tr>\n",
        "      <th>558</th>\n",
        "      <td> 0.000336</td>\n",
        "      <td> 0.000152</td>\n",
        "      <td> 0.000044</td>\n",
        "      <td> 0.000025</td>\n",
        "      <td> 0.000188</td>\n",
        "      <td> 0.000107</td>\n",
        "      <td> 0.000138</td>\n",
        "      <td> 0.000093</td>\n",
        "      <td> 0.000138</td>\n",
        "      <td> 0.000083</td>\n",
        "      <td> 0.000029</td>\n",
        "      <td> 0.000051</td>\n",
        "      <td> 0.000066</td>\n",
        "      <td> 0.000069</td>\n",
        "      <td> 0.000033</td>\n",
        "      <td> 0.000021</td>\n",
        "      <td> 0.000033</td>\n",
        "      <td> 0.000029</td>\n",
        "      <td> 0.000105</td>\n",
        "      <td> 0.000114</td>\n",
        "      <td>...</td>\n",
        "    </tr>\n",
        "    <tr>\n",
        "      <th>562</th>\n",
        "      <td> 0.000299</td>\n",
        "      <td> 0.000217</td>\n",
        "      <td> 0.000056</td>\n",
        "      <td> 0.000021</td>\n",
        "      <td> 0.000063</td>\n",
        "      <td> 0.000162</td>\n",
        "      <td> 0.000104</td>\n",
        "      <td> 0.000076</td>\n",
        "      <td> 0.000218</td>\n",
        "      <td> 0.000072</td>\n",
        "      <td> 0.000039</td>\n",
        "      <td> 0.000038</td>\n",
        "      <td> 0.000067</td>\n",
        "      <td> 0.000092</td>\n",
        "      <td> 0.000040</td>\n",
        "      <td> 0.000023</td>\n",
        "      <td> 0.000074</td>\n",
        "      <td> 0.000027</td>\n",
        "      <td> 0.000047</td>\n",
        "      <td> 0.000106</td>\n",
        "      <td>...</td>\n",
        "    </tr>\n",
        "    <tr>\n",
        "      <th>566</th>\n",
        "      <td> 0.000238</td>\n",
        "      <td> 0.000226</td>\n",
        "      <td> 0.000058</td>\n",
        "      <td> 0.000031</td>\n",
        "      <td> 0.000000</td>\n",
        "      <td> 0.000174</td>\n",
        "      <td> 0.000090</td>\n",
        "      <td> 0.000048</td>\n",
        "      <td> 0.000224</td>\n",
        "      <td> 0.000061</td>\n",
        "      <td> 0.000029</td>\n",
        "      <td> 0.000046</td>\n",
        "      <td> 0.000069</td>\n",
        "      <td> 0.000097</td>\n",
        "      <td> 0.000002</td>\n",
        "      <td> 0.000007</td>\n",
        "      <td> 0.000047</td>\n",
        "      <td> 0.000020</td>\n",
        "      <td> 0.000077</td>\n",
        "      <td> 0.000072</td>\n",
        "      <td>...</td>\n",
        "    </tr>\n",
        "  </tbody>\n",
        "</table>\n",
        "<p>5 rows \u00d7 62 columns</p>\n",
        "</div>"
       ],
       "metadata": {},
       "output_type": "pyout",
       "prompt_number": 38,
       "text": [
        "             100-41-4  103-65-1  106-42-3  106-97-8  1067-08-9  1068-87-7  \\\n",
        "Wave number                                                                 \n",
        "550          0.000300  0.000106  0.000035  0.000040   0.000252   0.000484   \n",
        "554          0.000328  0.000141  0.000024  0.000043   0.000212   0.000265   \n",
        "558          0.000336  0.000152  0.000044  0.000025   0.000188   0.000107   \n",
        "562          0.000299  0.000217  0.000056  0.000021   0.000063   0.000162   \n",
        "566          0.000238  0.000226  0.000058  0.000031   0.000000   0.000174   \n",
        "\n",
        "             1069-53-0  107-83-5  1070-87-7  1072-05-5  1072-16-8  108-08-7  \\\n",
        "Wave number                                                                   \n",
        "550           0.000189  0.000130   0.000091   0.000157   0.000035  0.000021   \n",
        "554           0.000158  0.000104   0.000091   0.000119   0.000023  0.000051   \n",
        "558           0.000138  0.000093   0.000138   0.000083   0.000029  0.000051   \n",
        "562           0.000104  0.000076   0.000218   0.000072   0.000039  0.000038   \n",
        "566           0.000090  0.000048   0.000224   0.000061   0.000029  0.000046   \n",
        "\n",
        "             108-38-3  108-88-3  109-66-0  109-67-1  110-54-3  111-65-9  \\\n",
        "Wave number                                                               \n",
        "550          0.000043  0.000078  0.000007  0.000101  0.000024  0.000039   \n",
        "554          0.000049  0.000065  0.000011  0.000050  0.000039  0.000036   \n",
        "558          0.000066  0.000069  0.000033  0.000021  0.000033  0.000029   \n",
        "562          0.000067  0.000092  0.000040  0.000023  0.000074  0.000027   \n",
        "566          0.000069  0.000097  0.000002  0.000007  0.000047  0.000020   \n",
        "\n",
        "             111-84-2  124-18-5      \n",
        "Wave number                          \n",
        "550          0.000096  0.000119 ...  \n",
        "554          0.000068  0.000095 ...  \n",
        "558          0.000105  0.000114 ...  \n",
        "562          0.000047  0.000106 ...  \n",
        "566          0.000077  0.000072 ...  \n",
        "\n",
        "[5 rows x 62 columns]"
       ]
      }
     ],
     "prompt_number": 38
    },
    {
     "cell_type": "code",
     "collapsed": false,
     "input": [],
     "language": "python",
     "metadata": {},
     "outputs": []
    }
   ],
   "metadata": {}
  }
 ]
}